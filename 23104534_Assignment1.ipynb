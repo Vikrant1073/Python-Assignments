{
 "cells": [
  {
   "cell_type": "markdown",
   "id": "d5840bb1",
   "metadata": {},
   "source": [
    "# Assignment: Multi-container knapsack\n",
    "\n",
    "### Name: VIKRANT SINGH JAMWAL\n",
    "### Student ID: 23104534\n",
    "\n",
    "### Problem statement\n",
    "\n",
    "We have 3 trucks: 0, 1 and 2.\n",
    "\n",
    "We have 30 items, and each item can either be placed on a particular truck, or not placed on any truck.\n",
    "\n",
    "Each item has a value and a weight.\n",
    "\n",
    "We want to maximise the total value of the items we place on the trucks.\n",
    "\n",
    "But each truck has its own weight limit, so for each truck we have to obey the limit on its weight.\n",
    "\n",
    "Your task is to solve this problem, comparing multiple algorithms / algorithmic ideas, and variants, and multiple hyperparameter values where appropriate, and report on your results.\n",
    "\n",
    "### Measuring performance\n",
    "\n",
    "I provide an objective function which (a) checks whether the weight limits are obeyed, and if yes it returns the sum of values achieved. Otherwise it returns 0. In this objective function, the solution is specified as a bitstring. We think of it in chunks of 3, one chunk for each item. If a chunk is `100`, for example, it means that the item is in truck 0. `001` means it's in truck 2. If there's no 0 in the chunk, it means the item is not placed on any truck. If there's more than 1 `1` in the chunk, eg `110`, it means the solution is invalid, and again we return 0.\n",
    "\n",
    "For example, with 5 items and 3 trucks, the following would be a valid bitstring for my objective function.\n",
    "\n",
    "`001 100 001 010 000`\n",
    "\n",
    "I also provide a function to print a solution in a condensed format like the above.\n",
    "\n",
    "### Experiments\n",
    "\n",
    "You are free to use any metaheuristic algorithms, including HC, SA, GA, and/or any variant. You are free to use any encoding, which could be a bitstring encoding or something else; a genotype-phenotype mapping, a repair mechanism, or similar; and/or custom `init`, `nbr`, and/or `crossover` operators. You are free to use a different objective function **during the run**, but remember that you must use my objective function for the **final evaluation**, for fair comparison of all methods. You are free to use ideas which you or others have suggested in class to improve the algorithms.\n",
    "\n",
    "For each setup, you should run the setup 5 times with random seeds 0, 1, 2, 3, 4, and compare the mean performance.\n",
    "\n",
    "If you wish, you can show curves to demonstrate behaviour, such as objective over time, or diversity over time.\n",
    "\n",
    "### Due date\n",
    "\n",
    "As announced on Canvas.\n",
    "\n",
    "### Grading\n",
    "\n",
    "This assignment is worth 30% of the module. \n",
    "\n",
    "Marks will be awarded for:\n",
    "\n",
    "* A comprehensive and well-designed experiment;\n",
    "* Novel / interesting / well-motivated algorithmic ideas;\n",
    "* Good results.\n",
    "\n",
    "Your report should be written in an `ipynb` file including all your code, results, any necessary graphics and tables, and description. You should include a clear and short description of (a) the standard algorithms you are using; (b) your novel algorithmic ideas; and (c) the results. As a guideline, I recommend 1000-3000 words of text, and 100-300 lines of code (in addition to the code provided). These are not hard limits.\n",
    "\n",
    "### Teams\n",
    "\n",
    "You may work solo, or in a team of 2. If in a team of 2, both students must submit and their submissions must be identical. You may not work together with a student you previously worked with in any other assignment in any other module. To work in a team, one team member must send email to the lecturer at least 2 weeks before the deadline including both members' names and ID numbers, cc-ing the other team member. If you work in a team, both members have to work together on all aspects of the problem: you cannot divide it up between you.\n",
    "\n",
    "### Reusing code; plagiarism; interviews; work-in-progress\n",
    "\n",
    "You may import libraries if they can be directly installed using Anaconda or pip. \n",
    "\n",
    "You may not use substantial amounts of code from the internet, but short snippets are allowed, with citation (URL in a comment to show exactly what code was used). \n",
    "\n",
    "You may discuss work with others, but you may not look at work by others or show your work to others. \n",
    "\n",
    "You may not use generated code.\n",
    "\n",
    "After submission, we will hold very short interviews. Where a student or team cannot answer questions about their own work at interview, it will be taken as evidence of plagiarism of some form.\n",
    "\n",
    "You should show me your work in progress during labs, and tell me in particular what standard and non-standard algorithmic ideas you plan to use, and tell me if you are working in a team. Where a student shows good understanding of their own work in progress during labs they may not need to come to interview."
   ]
  },
  {
   "cell_type": "code",
   "execution_count": 45,
   "id": "61db7dd3",
   "metadata": {},
   "outputs": [],
   "source": [
    "# 30 items, each with a weight and a value: (wt, val)\n",
    "items = [(7, 70), (13, 25), (20, 50), (4, 38), (10, 48), (4, 72), (1, 12), (5, 30), (19, 21), (1, 99), \n",
    "         (8, 87), (14, 31), (19, 10), (10, 67), (19, 12), (11, 50), (8, 13), (3, 68), (12, 50), (13, 41), \n",
    "         (1, 67), (8, 98), (5, 28), (3, 15), (17, 78), (13, 83), (2, 25), (14, 79), (6, 48), (20, 49)]"
   ]
  },
  {
   "cell_type": "code",
   "execution_count": 46,
   "id": "7ec4decb",
   "metadata": {},
   "outputs": [],
   "source": [
    "def objective_function(x):\n",
    "    total_value = 0\n",
    "    container_weights = [0, 0, 0]\n",
    "    # truck weight limits\n",
    "    weight_limits = [72, 80, 109]\n",
    "    \n",
    "    for i, (wt, val) in enumerate(items):\n",
    "        chunk = x[i*3 : i*3+3]\n",
    "        \n",
    "        if sum(chunk) > 1:\n",
    "            return 0 # can't place item in more than truck\n",
    "        if sum(chunk) == 0:\n",
    "            continue # this item is not chosen\n",
    "        # Find which container this item is allocated to: 0, 1 or 2\n",
    "        idx = chunk.index(1)\n",
    "        \n",
    "        # Place the item in the container\n",
    "        container_weights[idx] += wt\n",
    "        if container_weights[idx] > weight_limits[idx]:\n",
    "            return 0 # over-weight\n",
    "        total_value += val\n",
    "    \n",
    "    return total_value\n",
    "\n",
    "# useful for printing in a condensed format\n",
    "def print_sol(x):\n",
    "    for i in range(len(x) // 3):\n",
    "        chunk = x[i*3 : i*3+3]\n",
    "        for j in chunk:\n",
    "            print(j, end=\"\")\n",
    "        print(\" \", end=\"\")\n",
    "    print(\"\")"
   ]
  },
  {
   "cell_type": "markdown",
   "id": "02d9dd2d",
   "metadata": {},
   "source": [
    "Below is a short test / demo:"
   ]
  },
  {
   "cell_type": "code",
   "execution_count": 47,
   "id": "f4873b57",
   "metadata": {},
   "outputs": [
    {
     "name": "stdout",
     "output_type": "stream",
     "text": [
      "The total value for the solution\n",
      "110 000 000 001 000 000 000 000 100 000 000 001 000 000 000 000 000 000 010 000 000 000 000 100 010 000 000 000 000 000 \n",
      "is 0.\n",
      "The total value for the solution\n",
      "100 100 100 000 000 000 000 000 000 000 100 100 100 000 000 000 000 000 000 000 100 100 100 000 000 000 000 000 000 000 \n",
      "is 0.\n",
      "The total value for the solution\n",
      "000 000 000 001 000 100 000 000 100 000 010 001 000 000 000 000 000 000 010 000 001 100 000 100 010 000 000 001 000 000 \n",
      "is 636.\n"
     ]
    }
   ],
   "source": [
    "\n",
    "# 1,1,0 for item 0 is invalid\n",
    "bad_solution1 = [1,1,0, 0,0,0, 0,0,0, 0,0,1, 0,0,0, 0,0,0, 0,0,0, 0,0,0, 1,0,0, 0,0,0, \n",
    "                 0,0,0, 0,0,1, 0,0,0, 0,0,0, 0,0,0, 0,0,0, 0,0,0, 0,0,0, 0,1,0, 0,0,0, \n",
    "                 0,0,0, 0,0,0, 0,0,0, 1,0,0, 0,1,0, 0,0,0, 0,0,0, 0,0,0, 0,0,0, 0,0,0]\n",
    "\n",
    "# over-weight for truck 0\n",
    "bad_solution2 = [1,0,0, 1,0,0, 1,0,0, 0,0,0, 0,0,0, 0,0,0, 0,0,0, 0,0,0, 0,0,0, 0,0,0, \n",
    "                 1,0,0, 1,0,0, 1,0,0, 0,0,0, 0,0,0, 0,0,0, 0,0,0, 0,0,0, 0,0,0, 0,0,0, \n",
    "                 1,0,0, 1,0,0, 1,0,0, 0,0,0, 0,0,0, 0,0,0, 0,0,0, 0,0,0, 0,0,0, 0,0,0]\n",
    "# ok\n",
    "good_solution = [0,0,0, 0,0,0, 0,0,0, 0,0,1, 0,0,0, 1,0,0, 0,0,0, 0,0,0, 1,0,0, 0,0,0, \n",
    "                 0,1,0, 0,0,1, 0,0,0, 0,0,0, 0,0,0, 0,0,0, 0,0,0, 0,0,0, 0,1,0, 0,0,0, \n",
    "                 0,0,1, 1,0,0, 0,0,0, 1,0,0, 0,1,0, 0,0,0, 0,0,0, 0,0,1, 0,0,0, 0,0,0]\n",
    "for sol in [bad_solution1, bad_solution2, good_solution]:\n",
    "    print(f\"The total value for the solution\")\n",
    "    print_sol(sol)\n",
    "    print(f\"is {objective_function(sol)}.\")\n",
    "\n"
   ]
  },
  {
   "cell_type": "code",
   "execution_count": 48,
   "id": "9788cdcd",
   "metadata": {},
   "outputs": [],
   "source": [
    "import random\n",
    "import matplotlib.pyplot as plt\n",
    "import pandas as pd\n",
    "import numpy as np"
   ]
  },
  {
   "cell_type": "markdown",
   "id": "f92b519a",
   "metadata": {},
   "source": [
    "## Introduction\n",
    "\n",
    "The objective is to maximise the total value of items placed on the trucks. This report is written in following steps:\n",
    "* Initialization\n",
    "* Neighbors\n",
    "* Simple Hill climbing\n",
    "* Simulated Anealing\n",
    "    * with alpha = 0.999\n",
    "    * with alpha = 0.99\n",
    "    * with alpha = 0.9\n",
    "* Genetic Algorithm\n",
    "    * Uniform Crossover\n",
    "    * One Point Crossover\n",
    "    * Two Point Crossover\n",
    "* Performance Results\n",
    "* Conclusion\n",
    "* **Idea** and its performance"
   ]
  },
  {
   "cell_type": "markdown",
   "id": "50ca5b27",
   "metadata": {},
   "source": [
    "<H2>Initialization</H2>\n",
    "\n",
    "For this particular case, initialization can be done in following steps:\n",
    "* Creating a chunk (truck_no) with initially [0,0,0] value\n",
    "* Changing any one of its bit to 1 randomly with a prob of 0.5 (As this chunk represents in the truck where the item is stored (0,1 or 2), hence 2 bits of this chunk cannot be valued as 1).\n",
    "* Extending an empty list with these values of the chunk and iterate it for each item.\n"
   ]
  },
  {
   "cell_type": "code",
   "execution_count": 49,
   "id": "45ef07ad",
   "metadata": {},
   "outputs": [
    {
     "name": "stdout",
     "output_type": "stream",
     "text": [
      "000 000 100 010 001 010 100 000 001 000 000 010 000 000 000 100 001 000 000 000 001 100 010 000 000 000 010 000 010 000 \n"
     ]
    }
   ],
   "source": [
    "n=len(items)\n",
    "its=5000\n",
    "\n",
    "def init_fun(n):\n",
    "    lst=[]\n",
    "    for i in range(n):\n",
    "        \n",
    "        truck_no=[0,0,0] # Initialising a chunk with no truck selected.\n",
    "        if random.random()>0.5: # 50% probability of choosing a truck for that item.\n",
    "            truck_no[random.randrange(3)]=1\n",
    "            \n",
    "        lst.extend(truck_no) # Appending chunks of each element' truck index (chosen or not).\n",
    "    return lst\n",
    "\n",
    "print_sol(init_fun(n))"
   ]
  },
  {
   "cell_type": "code",
   "execution_count": 50,
   "id": "18af1eb5",
   "metadata": {},
   "outputs": [
    {
     "data": {
      "text/plain": [
       "511"
      ]
     },
     "execution_count": 50,
     "metadata": {},
     "output_type": "execute_result"
    }
   ],
   "source": [
    "objective_function(init_fun(n))"
   ]
  },
  {
   "cell_type": "markdown",
   "id": "72b50884",
   "metadata": {},
   "source": [
    "<H2> Neighbor Function</H2>\n",
    "\n",
    "Neighbor can be found by changing one chunk of the solution:\n",
    "\n",
    "* Creating a random chunk (truck_no) like in initialization function.\n",
    "* Replacing a random chunk of the solution with this chunk.\n",
    "* This will create a new solution with a slight change from the previous solution, called as a neighbor"
   ]
  },
  {
   "cell_type": "code",
   "execution_count": 51,
   "id": "fc252b67",
   "metadata": {},
   "outputs": [],
   "source": [
    "def nbr_fun(x):\n",
    "    x = x.copy()\n",
    "    i= random.randrange(n)\n",
    "    \n",
    "    truck_no=[0,0,0]\n",
    "    if random.random()>0.3:\n",
    "        truck_no[random.randrange(3)]=1\n",
    "        \n",
    "    if (x[i*3:i*3+3] != truck_no):  # Checking if changed chunk is similar to the previous chunk.\n",
    "        x[i*3:i*3+3] = truck_no\n",
    "        return x\n",
    "    else:    \n",
    "        return nbr_fun(x) # If similar, then recursion until we get the different chunk.\n",
    "\n",
    "#x=init_fun(n)\n",
    "#print(x)    \n",
    "#print(nbr_fun(x))"
   ]
  },
  {
   "cell_type": "markdown",
   "id": "5f17168b",
   "metadata": {},
   "source": [
    "<H1>Hill Climbing</H1>"
   ]
  },
  {
   "cell_type": "markdown",
   "id": "2a914d3c",
   "metadata": {},
   "source": [
    "Hill climbing is a black box mateheurestic which takes a random point from the domain and keeps on finding the best neighbor and when successfully finds one, moves to that point. "
   ]
  },
  {
   "cell_type": "markdown",
   "id": "714030c5",
   "metadata": {},
   "source": [
    "Called Hill Climbing and returned Total value of the items and history of these values from each iteration."
   ]
  },
  {
   "cell_type": "code",
   "execution_count": 52,
   "id": "4b6239fb",
   "metadata": {},
   "outputs": [],
   "source": [
    "def HC_algo(f, init, nbr, its):\n",
    "    x=init(n)\n",
    "    fx=f(x)\n",
    "    history=[]\n",
    "    \n",
    "    for i in range(its):\n",
    "        xnew=nbr(x)\n",
    "        fxnew=f(xnew)\n",
    "        \n",
    "        if fxnew>fx:\n",
    "            x=xnew\n",
    "            fx=fxnew\n",
    "        history.append(fx) # Appending best value of the iteration to the list.\n",
    "    return fx, history"
   ]
  },
  {
   "cell_type": "code",
   "execution_count": 53,
   "id": "91ffbb86",
   "metadata": {},
   "outputs": [
    {
     "name": "stdout",
     "output_type": "stream",
     "text": [
      "CPU times: user 42.9 ms, sys: 1.21 ms, total: 44.1 ms\n",
      "Wall time: 43.3 ms\n"
     ]
    }
   ],
   "source": [
    "%%time\n",
    "fx, history= HC_algo(objective_function, init_fun, nbr_fun, its)"
   ]
  },
  {
   "cell_type": "code",
   "execution_count": 54,
   "id": "970a0a57",
   "metadata": {},
   "outputs": [
    {
     "name": "stdout",
     "output_type": "stream",
     "text": [
      "Best value: 1433\n"
     ]
    },
    {
     "data": {
      "image/png": "[encoded data removed]",
      "text/plain": [
       "<Figure size 640x480 with 1 Axes>"
      ]
     },
     "metadata": {},
     "output_type": "display_data"
    }
   ],
   "source": [
    "plt.plot(history, label='History of fx')\n",
    "plt.legend()\n",
    "print(f'Best value: {max(history)}')\n",
    "plt.xlabel('Iterations')\n",
    "plt.ylabel('Total Value (fx)');"
   ]
  },
  {
   "cell_type": "markdown",
   "id": "11639d4a",
   "metadata": {},
   "source": [
    "Above plot shows the improvement of the Total Value against iterations."
   ]
  },
  {
   "cell_type": "markdown",
   "id": "3bab2332",
   "metadata": {},
   "source": [
    "<H1>Simulated Anealing </H1>"
   ]
  },
  {
   "cell_type": "markdown",
   "id": "0cf23611",
   "metadata": {},
   "source": [
    "SA mataheurestics is used as an advantage over HC to escape local optimas by accepting slightly bad moves with dacaying probability.\n",
    "\n",
    "* Initialization and Neighbor functions are similiar to those as Hill climb. \n",
    "* Added a decaying probability with parameters T and alpha.\n",
    "* Keeping T=1,00,000 for every varient."
   ]
  },
  {
   "cell_type": "markdown",
   "id": "6f8faf6d",
   "metadata": {},
   "source": [
    "## SA With alpha = 0.999"
   ]
  },
  {
   "cell_type": "code",
   "execution_count": 55,
   "id": "cfd862f8",
   "metadata": {},
   "outputs": [],
   "source": [
    "def SA_algo(f, init, nbr, its):\n",
    "    T=100000\n",
    "    alpha=0.999\n",
    "    \n",
    "    x=init_fun(n)\n",
    "    fx=f(x)\n",
    "    bestf=fx\n",
    "    history=[]\n",
    "    history_bestf=[]\n",
    "    \n",
    "    for i in range(its):\n",
    "        xnew=nbr_fun(x)\n",
    "        fxnew=f(xnew)\n",
    "        \n",
    "        if fxnew>fx or random.random()<np.exp((fxnew-fx)/T): # Accepting all the best values and sometimes \n",
    "                                                             # disimprovemnets with decreasing probability.\n",
    "            fx=fxnew\n",
    "            x=xnew\n",
    "            \n",
    "        if fx>bestf:\n",
    "            bestf=fx\n",
    "        \n",
    "        T*=alpha\n",
    "        history.append(fx)\n",
    "        history_bestf.append(bestf)\n",
    "    return fx, history, history_bestf\n"
   ]
  },
  {
   "cell_type": "code",
   "execution_count": 56,
   "id": "909a9f16",
   "metadata": {},
   "outputs": [
    {
     "name": "stdout",
     "output_type": "stream",
     "text": [
      "CPU times: user 112 ms, sys: 1.71 ms, total: 114 ms\n",
      "Wall time: 37.1 ms\n"
     ]
    }
   ],
   "source": [
    "%%time\n",
    "fx, history, history_bestf = SA_algo( objective_function, init_fun, nbr_fun, its)\n",
    "\n",
    "#history - includes disimprovements of fx as current fx of each iteration is appended.\n",
    "#history_bestf - list of only improvements of fx."
   ]
  },
  {
   "cell_type": "code",
   "execution_count": 57,
   "id": "8502ca39",
   "metadata": {},
   "outputs": [
    {
     "name": "stdout",
     "output_type": "stream",
     "text": [
      "Best value: 1321\n"
     ]
    },
    {
     "data": {
      "image/png": "[encoded data removed]",
      "text/plain": [
       "<Figure size 640x480 with 1 Axes>"
      ]
     },
     "metadata": {},
     "output_type": "display_data"
    }
   ],
   "source": [
    "plt.plot(history, label='current fx history')\n",
    "plt.plot(history_bestf, label= 'best fx history')\n",
    "plt.legend()\n",
    "print(f'Best value: {max(history)}')\n",
    "plt.xlabel('Iterations')\n",
    "plt.ylabel('Total Value (fx)');"
   ]
  },
  {
   "cell_type": "markdown",
   "id": "7204d48b",
   "metadata": {},
   "source": [
    "### Above graph shows:\n",
    "* Blue Line: Total value at each iteration (includes disimproved values as well).\n",
    "* Orange Line: Only the best value found till that iteration.\n",
    "\n",
    "### Findings:\n",
    "* As we can observe that the alpha is high so the net decay of Temperature is slow, hence probability of accepting disimprovements is decreasing slowly with iterations. This can be seen as there is a high unstability in the plot above."
   ]
  },
  {
   "cell_type": "markdown",
   "id": "a3b428a0",
   "metadata": {},
   "source": [
    "## SA With alpha = 0.99"
   ]
  },
  {
   "cell_type": "code",
   "execution_count": 94,
   "id": "d00c1e4c",
   "metadata": {},
   "outputs": [],
   "source": [
    "def SA_algo_v(f, init, nbr, its):\n",
    "    T=100000\n",
    "    alpha=0.99\n",
    "    \n",
    "    x=init_fun(n)\n",
    "    fx=f(x)\n",
    "    bestf=fx\n",
    "    history=[]\n",
    "    history_bestf=[]\n",
    "    \n",
    "    for i in range(its):\n",
    "        xnew=nbr_fun(x)\n",
    "        fxnew=f(xnew)\n",
    "        \n",
    "        if fxnew>fx or random.random()<np.exp((fxnew-fx)/T): # Accepting all the best values and sometimes \n",
    "                                                             # disimprovemnets with decreasing probability.\n",
    "            fx=fxnew\n",
    "            x=xnew\n",
    "            \n",
    "        if fx>bestf:\n",
    "            bestf=fx\n",
    "        \n",
    "        T*=alpha\n",
    "        history.append(fx)\n",
    "        history_bestf.append(bestf)\n",
    "        \n",
    "    return fx, history, history_bestf"
   ]
  },
  {
   "cell_type": "code",
   "execution_count": 95,
   "id": "9712ec55",
   "metadata": {},
   "outputs": [],
   "source": [
    "fx_v, history_v, history_bestf_v = SA_algo_v( objective_function, init_fun, nbr_fun, its)"
   ]
  },
  {
   "cell_type": "code",
   "execution_count": 96,
   "id": "6a5833a2",
   "metadata": {},
   "outputs": [
    {
     "name": "stdout",
     "output_type": "stream",
     "text": [
      "Best value: 1403\n"
     ]
    },
    {
     "data": {
      "image/png": "[encoded data removed]",
      "text/plain": [
       "<Figure size 640x480 with 1 Axes>"
      ]
     },
     "metadata": {},
     "output_type": "display_data"
    }
   ],
   "source": [
    "plt.plot(history_v, label='current fx history')\n",
    "plt.plot(history_bestf_v, label= 'best fx history')\n",
    "plt.legend()\n",
    "print(f'Best value: {max(history_v)}')\n",
    "plt.xlabel('Iterations')\n",
    "plt.ylabel('Total Value (fx)');"
   ]
  },
  {
   "cell_type": "markdown",
   "id": "779fc12a",
   "metadata": {},
   "source": [
    "### Findings:\n",
    "* As we have changed the value of alpha to 0.99, we can see Temperature is decreasing with a faster rate than previous variation, hence we can see a better stability in the plot as probability of accepting disimprovements is decreasing with itterations at a faster rate. "
   ]
  },
  {
   "cell_type": "markdown",
   "id": "0014963c",
   "metadata": {},
   "source": [
    "## SA With alpha = 0.9"
   ]
  },
  {
   "cell_type": "code",
   "execution_count": 61,
   "id": "324e2637",
   "metadata": {},
   "outputs": [],
   "source": [
    "def SA_algo_v2(f, init, nbr, its):\n",
    "    T=100000\n",
    "    alpha=0.9\n",
    "    \n",
    "    x=init_fun(n)\n",
    "    fx=f(x)\n",
    "    bestf=fx\n",
    "    history=[]\n",
    "    history_bestf=[]\n",
    "    \n",
    "    for i in range(its):\n",
    "        xnew=nbr_fun(x)\n",
    "        fxnew=f(xnew)\n",
    "        \n",
    "        if fxnew>fx or random.random()<np.exp((fxnew-fx)/T): # Accepting all the best values and sometimes \n",
    "                                                             # disimprovemnets with decreasing probability.\n",
    "            fx=fxnew\n",
    "            x=xnew\n",
    "            \n",
    "        if fx>bestf:\n",
    "            bestf=fx\n",
    "        \n",
    "        T*=alpha\n",
    "        history.append(fx)\n",
    "        history_bestf.append(bestf)\n",
    "        \n",
    "    return fx, history, history_bestf"
   ]
  },
  {
   "cell_type": "code",
   "execution_count": 62,
   "id": "29579ecc",
   "metadata": {},
   "outputs": [],
   "source": [
    "fx_v2, history_v2, history_bestf_v2 = SA_algo_v2( objective_function, init_fun, nbr_fun, its)"
   ]
  },
  {
   "cell_type": "code",
   "execution_count": 63,
   "id": "ee589240",
   "metadata": {},
   "outputs": [
    {
     "name": "stdout",
     "output_type": "stream",
     "text": [
      "Best value: 1373\n"
     ]
    },
    {
     "data": {
      "image/png": "[encoded data removed]",
      "text/plain": [
       "<Figure size 640x480 with 1 Axes>"
      ]
     },
     "metadata": {},
     "output_type": "display_data"
    }
   ],
   "source": [
    "plt.plot(history_v2, label='current fx history')\n",
    "plt.plot(history_bestf_v2, label= 'best fx history')\n",
    "plt.legend()\n",
    "print(f'Best value: {max(history_v2)}')\n",
    "plt.xlabel('Iterations')\n",
    "plt.ylabel('Total Value (fx)');"
   ]
  },
  {
   "cell_type": "markdown",
   "id": "91a86f81",
   "metadata": {},
   "source": [
    "### Findings: \n",
    "* As we have changed the value of alpha to 0.9, higher than both the previous varients, we can see that the Temperature is decreasing rapidly with iterations. Hence, probability of accepting disimprovements decreased rapidly making the algorithm work like Hill climbing after some iterations.\n",
    "\n",
    "* We can observe that current fx is following the path of best fx as disimprovements are very rarely accepted."
   ]
  },
  {
   "cell_type": "markdown",
   "id": "af804894",
   "metadata": {},
   "source": [
    "<H1>Genetic Algorithm</H1>"
   ]
  },
  {
   "cell_type": "markdown",
   "id": "81c8584c",
   "metadata": {},
   "source": [
    "GA metaheurestics is used to escape local optimas by initializing a population of solutions than a single solution. \n",
    "* Initialization is iterated to create a population of solutions.\n",
    "* Tournament between random fighters of size (3 here), winner will become the parent.\n",
    "* 2 parents crossover to create 2 children\n",
    "* These children will be added to the next generation's population with or without mutation depending on the probability."
   ]
  },
  {
   "cell_type": "markdown",
   "id": "a9b06f9d",
   "metadata": {},
   "source": [
    "# Tournament"
   ]
  },
  {
   "cell_type": "code",
   "execution_count": 64,
   "id": "fad7dde3",
   "metadata": {},
   "outputs": [],
   "source": [
    "def tournament(population, size):\n",
    "    fighters = random.sample(population,size)\n",
    "    winner = max(fighters, key=lambda i:i[0])\n",
    "    return winner # Winner of the tournament with higher objective value than other fighters."
   ]
  },
  {
   "cell_type": "markdown",
   "id": "03415697",
   "metadata": {},
   "source": [
    "# Crossover"
   ]
  },
  {
   "cell_type": "markdown",
   "id": "25509442",
   "metadata": {},
   "source": [
    "Used three types of crossover:\n",
    "* Uniform crossover- Where each chunk of 3 bits will be chosen on random from either parents.\n",
    "* One point Crossover- Where mom's and dad's chunks are interchanged from a random index.\n",
    "* Two point Crossover- Where mom's and dad's chunks are interchanged from 2 random indexes."
   ]
  },
  {
   "cell_type": "code",
   "execution_count": 65,
   "id": "dd35b2e2",
   "metadata": {},
   "outputs": [],
   "source": [
    "def cross_uniform(dad, mom):\n",
    "    boy, girl=[],[]\n",
    "    \n",
    "    for i in range(n): \n",
    "        if random.random()<0.5: \n",
    "            boy[i*3:i*3+3]=dad[i*3:i*3+3]\n",
    "            girl[i*3:i*3+3]=mom[i*3:i*3+3]\n",
    "        else:\n",
    "            boy[i*3:i*3+3]=mom[i*3:i*3+3]\n",
    "            girl[i*3:i*3+3]=dad[i*3:i*3+3]\n",
    "    \n",
    "    return boy, girl # Crossover where every bit of parents are randomly distributed to the children.\n",
    "    \n",
    "    \n",
    "def cross_one_point(dad, mom):\n",
    "    \n",
    "    i = random.randrange(n)\n",
    "\n",
    "    boy = mom[:i*3] + dad[i*3:]\n",
    "    girl = dad[:i*3] + mom[i*3:]\n",
    "    \n",
    "    return boy, girl # Crossover where parent's genes are divided into two parts from a random index.\n",
    "    \n",
    "    \n",
    "def cross_two_point(dad, mom):\n",
    "    \n",
    "    i1 = random.randrange(n)\n",
    "    i2 = random.randrange(n)\n",
    "    \n",
    "    boy = mom[:i1*3] + dad[i1*3:i2*3] + mom[i2*3:]\n",
    "    girl = dad[:i1*3] + mom[i1*3:i2*3] + dad[i2*3:]\n",
    "    \n",
    "    return boy, girl # Crossover where parent's genes are divided from two random indexes."
   ]
  },
  {
   "cell_type": "markdown",
   "id": "6eb828ee",
   "metadata": {},
   "source": [
    "# GA Function\n",
    "\n",
    "* Defining Iterations, population size, number of generations and probability for mutation is taken as 0.2.\n",
    "* Elitism is used."
   ]
  },
  {
   "cell_type": "code",
   "execution_count": 66,
   "id": "364534b5",
   "metadata": {},
   "outputs": [],
   "source": [
    "its=5000 # no. of iterations.\n",
    "popsize = 100 # size of the population.\n",
    "ngens = int(its / popsize) # generations will be iterations per population size.\n",
    "pmut = 0.2 # probability of mutation.\n",
    "\n",
    "def GA_algo(f, init, nbr, crossover, tournament, popsize, ngens, pmut):\n",
    "    \n",
    "    gpop=[init() for i in range(popsize)]\n",
    "    history=[]\n",
    "    history_elite=[]\n",
    "    for z in range(ngens):\n",
    "        \n",
    "        gpopf=[(f(x),x) for x in gpop] # Tuple of fx and x value (to parse in tournament function)\n",
    "        new_pop=[]\n",
    "        \n",
    "        elite_player=max((x for x in gpop), key=f) \n",
    "        new_pop.append(elite_player)  # Elitism\n",
    "                    \n",
    "        for i in range(popsize//2):\n",
    "            p1=tournament(gpopf)[1] # Getting dad from random tournament winner.\n",
    "            p2=tournament(gpopf)[1] # Getting mom from random tournament winner.\n",
    "            c1,c2=crossover(p1,p2)  # Crossover of mom and dad to get children.\n",
    "            \n",
    "            if random.random()<pmut: # Mutation with pmut probability.\n",
    "                c1=nbr(c1)\n",
    "                c2=nbr(c2)\n",
    "            new_pop.append(c1) # appending children to next generation population.\n",
    "            new_pop.append(c2)\n",
    "       \n",
    "            \n",
    "        history.append(max((f(x) for x in new_pop))) # Getting max value of the new population of children.\n",
    "        history_elite.append(f(elite_player)) # Appending Elite player value of old population.\n",
    "         \n",
    "        gpop=new_pop\n",
    "        \n",
    "    return gpop, history, history_elite    "
   ]
  },
  {
   "cell_type": "code",
   "execution_count": 67,
   "id": "eb78ab7a",
   "metadata": {},
   "outputs": [
    {
     "name": "stdout",
     "output_type": "stream",
     "text": [
      "1442\n",
      "CPU times: user 386 ms, sys: 1.88 ms, total: 388 ms\n",
      "Wall time: 127 ms\n"
     ]
    }
   ],
   "source": [
    "%%time\n",
    "\n",
    "x, history, history_e = GA_algo(objective_function,\n",
    "                    \n",
    "                    lambda: init_fun(n),\n",
    "                    nbr_fun,\n",
    "                    cross_uniform,\n",
    "                    lambda population: tournament(population, 3),\n",
    "                    popsize,\n",
    "                    ngens,\n",
    "                    pmut\n",
    ")\n",
    "print(max(history))"
   ]
  },
  {
   "cell_type": "code",
   "execution_count": 68,
   "id": "01571f8c",
   "metadata": {},
   "outputs": [
    {
     "data": {
      "image/png": "[encoded data removed]",
      "text/plain": [
       "<Figure size 800x500 with 2 Axes>"
      ]
     },
     "metadata": {},
     "output_type": "display_data"
    }
   ],
   "source": [
    "fig, ax1 = plt.subplots(1, figsize=(8,5))\n",
    "ax2 = ax1.twinx()  # Function to plot two plots of different scales in one figure.\n",
    "\n",
    "ax1.plot(range(50),history, c=\"orange\")\n",
    "ax1.set_ylabel('Total values of Items')\n",
    "ax1.set_xlabel('Iterations')\n",
    "ax1.set_ylim(800,1500)\n",
    "\n",
    "ax2.bar(range(50),(np.array(history)-np.array(history_e)), fill=False)\n",
    "ax2.set_ylabel('Change in Elite Player')\n",
    "ax2.set_ylim(-10,300);"
   ]
  },
  {
   "cell_type": "markdown",
   "id": "4935a38d",
   "metadata": {},
   "source": [
    "#### Plots:\n",
    "* twinx() is used to create two differently scaled y-axis on the same plot.\n",
    "* Line plot is used to show the best fx against iterations. \n",
    "* Bar graph is used to observe the spike in the elite player from the previous generation to the next generation.\n",
    "\n",
    "### Findings:\n",
    "* <b>We can see spikes in the bar graph in the starting iterations as the solutions are getting better at a faster rate than the later iterations as we tend to reach closer to the optima.</b>"
   ]
  },
  {
   "cell_type": "markdown",
   "id": "e8af1d95",
   "metadata": {},
   "source": [
    "## GA with One point crossover\n",
    "\n",
    "This variation of Genetic Algorithm involves Crossover through one random point on the solution.\n",
    "* Where one part of the child's genes comes from one parent and other part from the other parent.\n",
    "* Index of random chunk is selected and then sliced the parent's genotype into two parts from that index, these parts are then appended to the children."
   ]
  },
  {
   "cell_type": "code",
   "execution_count": 69,
   "id": "6b4eaefa",
   "metadata": {},
   "outputs": [
    {
     "name": "stdout",
     "output_type": "stream",
     "text": [
      "1442\n",
      "CPU times: user 328 ms, sys: 7.61 ms, total: 336 ms\n",
      "Wall time: 114 ms\n"
     ]
    }
   ],
   "source": [
    "%%time\n",
    "x, history, history_e = GA_algo(objective_function,\n",
    "                    \n",
    "                    lambda: init_fun(n),\n",
    "                    nbr_fun,\n",
    "                    cross_one_point,\n",
    "                    lambda population: tournament(population, 3),\n",
    "                    popsize,\n",
    "                    ngens,\n",
    "                    pmut\n",
    ")\n",
    "print(max(history))"
   ]
  },
  {
   "cell_type": "code",
   "execution_count": 70,
   "id": "10d2b292",
   "metadata": {},
   "outputs": [
    {
     "data": {
      "image/png": "[encoded data removed]",
      "text/plain": [
       "<Figure size 800x500 with 2 Axes>"
      ]
     },
     "metadata": {},
     "output_type": "display_data"
    }
   ],
   "source": [
    "fig, ax1 = plt.subplots(1, figsize=(8,5))\n",
    "ax2 = ax1.twinx()  # Function to plot two plots of different scales in one figure.\n",
    "\n",
    "ax1.plot(range(50),history, c=\"orange\")\n",
    "ax1.set_ylabel('Total values of Items')\n",
    "ax1.set_xlabel('Iterations')\n",
    "ax1.set_ylim(800,1500)\n",
    "\n",
    "ax2.bar(range(50),(np.array(history)-np.array(history_e)), fill=False)\n",
    "ax2.set_ylabel('Change in Elite Player')\n",
    "ax2.set_ylim(-10,300);"
   ]
  },
  {
   "cell_type": "markdown",
   "id": "e85c64d9",
   "metadata": {},
   "source": [
    "### Findings:\n",
    "\n",
    "* Above varient's results are almost similiar to the Uniform Crossover. As we crossover through one random point, we provide more exploration than exploitation as it saves less of the parents genes than varient like two-point crossover."
   ]
  },
  {
   "cell_type": "markdown",
   "id": "c22259ff",
   "metadata": {},
   "source": [
    "## GA with Two point Crossover"
   ]
  },
  {
   "cell_type": "code",
   "execution_count": 71,
   "id": "2d56ef95",
   "metadata": {},
   "outputs": [
    {
     "name": "stdout",
     "output_type": "stream",
     "text": [
      "Best Value: 1411\n",
      "CPU times: user 345 ms, sys: 1.99 ms, total: 347 ms\n",
      "Wall time: 119 ms\n"
     ]
    }
   ],
   "source": [
    "%%time\n",
    "x, history, history_e = GA_algo(objective_function,\n",
    "                    \n",
    "                    lambda: init_fun(n),\n",
    "                    nbr_fun,\n",
    "                    cross_two_point,\n",
    "                    lambda population: tournament(population, 3),\n",
    "                    popsize,\n",
    "                    ngens,\n",
    "                    pmut\n",
    ")\n",
    "print(f'Best Value: {max(history)}')"
   ]
  },
  {
   "cell_type": "code",
   "execution_count": 72,
   "id": "fb8bcff0",
   "metadata": {},
   "outputs": [
    {
     "data": {
      "image/png": "[encoded data removed]",
      "text/plain": [
       "<Figure size 800x500 with 2 Axes>"
      ]
     },
     "metadata": {},
     "output_type": "display_data"
    }
   ],
   "source": [
    "fig, ax1 = plt.subplots(1, figsize=(8,5))\n",
    "ax2 = ax1.twinx() # Function to plot two plots of different scales in one figure.\n",
    "\n",
    "ax1.plot(range(50),history, c=\"orange\")\n",
    "ax1.set_ylabel('Total values of Items')\n",
    "ax1.set_xlabel('Iterations')\n",
    "ax1.set_ylim(800,1500)\n",
    "\n",
    "ax2.bar(range(50),(np.array(history)-np.array(history_e)), fill=False) \n",
    "ax2.set_ylabel('Change in Elite Player')\n",
    "ax2.set_ylim(-10,300);"
   ]
  },
  {
   "cell_type": "markdown",
   "id": "c650a526",
   "metadata": {},
   "source": [
    "### Findings:\n",
    "* In two-point Crossover, as we crossover through two random points on the solution, we tend to save more genes from the parents than above two varients, hence making this crossover more exploitative than both of the other varients."
   ]
  },
  {
   "cell_type": "markdown",
   "id": "c8841545",
   "metadata": {},
   "source": [
    "# Performance\n",
    "\n",
    "* Recorded performance (Total value of optimised solution) of each algorithm 5 times with random seeds.\n",
    "* Created a dataframe to visualize the results."
   ]
  },
  {
   "cell_type": "code",
   "execution_count": 73,
   "id": "6c5ea63f",
   "metadata": {},
   "outputs": [
    {
     "name": "stdout",
     "output_type": "stream",
     "text": [
      "CPU times: user 2.79 s, sys: 15.8 ms, total: 2.81 s\n",
      "Wall time: 2.41 s\n"
     ]
    }
   ],
   "source": [
    "%%time\n",
    "\n",
    "HC, SA, SA_varient, SA_varient2, GA_Uniform, GA_OnePoint, GA_TwoPoint = [], [], [], [], [], [], []\n",
    "its=5000\n",
    "\n",
    "for i in range(5):\n",
    "    random.seed(i)\n",
    "    \n",
    "    fx_hc, history_hc = HC_algo(objective_function, init_fun, nbr_fun, its)\n",
    "    HC.append(fx_hc) # Best solution for HC\n",
    "    \n",
    "    fx_sa, history_sa, history_bestf = SA_algo( objective_function, init_fun, nbr_fun, its)\n",
    "    SA.append(max(history_sa)) # Best solution for SA (alpha =0.999)\n",
    "    \n",
    "    fx_v, history_v, history_bestf_v = SA_algo_v( objective_function, init_fun, nbr_fun, its)\n",
    "    SA_varient.append(max(history_v)) # Best solution for SA (alpha =0.99)\n",
    "    \n",
    "    fx_v2, history_v2, history_bestf_v2 = SA_algo_v2( objective_function, init_fun, nbr_fun, its)\n",
    "    SA_varient2.append(max(history_v2)) # Best solution for SA (alpha =0.9)\n",
    "    \n",
    "    \n",
    "    x_u, history_ga_u, history_eu = GA_algo(objective_function,\n",
    "                        \n",
    "                        lambda: init_fun(n),\n",
    "                        nbr_fun, cross_uniform,\n",
    "                        lambda population: tournament(population, 3),\n",
    "                        popsize, ngens, pmut\n",
    "    )\n",
    "    \n",
    "    x_o, history_ga_o, history_eo = GA_algo(objective_function,\n",
    "                        \n",
    "                        lambda: init_fun(n),\n",
    "                        nbr_fun, cross_one_point,\n",
    "                        lambda population: tournament(population, 3),\n",
    "                        popsize, ngens, pmut\n",
    "    )\n",
    "    \n",
    "    x_t, history_ga_t, history_et = GA_algo(objective_function,\n",
    "                        \n",
    "                        lambda: init_fun(n),\n",
    "                        nbr_fun, cross_two_point,\n",
    "                        lambda population: tournament(population, 3),\n",
    "                        popsize, ngens, pmut                                              \n",
    "    )\n",
    "    \n",
    "    GA_Uniform.append(max(history_ga_u)) # Best solution for GA (Uniform Crossover)\n",
    "    GA_OnePoint.append(max(history_ga_o)) # Best solution for GA (One Point Crossover)\n",
    "    GA_TwoPoint.append(max(history_ga_t)) # Best solution for GA (Two Point Crossover)\n"
   ]
  },
  {
   "cell_type": "markdown",
   "id": "23d3b79a",
   "metadata": {},
   "source": [
    "## Results\n",
    "\n",
    "* Created DataFrame to visualize optimum solution for 5 runs of each algos and their varients."
   ]
  },
  {
   "cell_type": "code",
   "execution_count": 74,
   "id": "255a4509",
   "metadata": {},
   "outputs": [
    {
     "data": {
      "text/html": [
       "<div>\n",
       "<style scoped>\n",
       "    .dataframe tbody tr th:only-of-type {\n",
       "        vertical-align: middle;\n",
       "    }\n",
       "\n",
       "    .dataframe tbody tr th {\n",
       "        vertical-align: top;\n",
       "    }\n",
       "\n",
       "    .dataframe thead th {\n",
       "        text-align: right;\n",
       "    }\n",
       "</style>\n",
       "<table border=\"1\" class=\"dataframe\">\n",
       "  <thead>\n",
       "    <tr style=\"text-align: right;\">\n",
       "      <th></th>\n",
       "      <th>HC</th>\n",
       "      <th>SA 0.999</th>\n",
       "      <th>SA 0.99</th>\n",
       "      <th>SA 0.9</th>\n",
       "      <th>GA Uniform</th>\n",
       "      <th>GA One Point</th>\n",
       "      <th>GA Two Point</th>\n",
       "    </tr>\n",
       "  </thead>\n",
       "  <tbody>\n",
       "    <tr>\n",
       "      <th>0</th>\n",
       "      <td>1402</td>\n",
       "      <td>1269</td>\n",
       "      <td>1402</td>\n",
       "      <td>1371</td>\n",
       "      <td>1442</td>\n",
       "      <td>1442</td>\n",
       "      <td>1442</td>\n",
       "    </tr>\n",
       "    <tr>\n",
       "      <th>1</th>\n",
       "      <td>1306</td>\n",
       "      <td>1290</td>\n",
       "      <td>1442</td>\n",
       "      <td>1413</td>\n",
       "      <td>1433</td>\n",
       "      <td>1433</td>\n",
       "      <td>1421</td>\n",
       "    </tr>\n",
       "    <tr>\n",
       "      <th>2</th>\n",
       "      <td>1364</td>\n",
       "      <td>1363</td>\n",
       "      <td>1402</td>\n",
       "      <td>1402</td>\n",
       "      <td>1442</td>\n",
       "      <td>1442</td>\n",
       "      <td>1417</td>\n",
       "    </tr>\n",
       "    <tr>\n",
       "      <th>3</th>\n",
       "      <td>1282</td>\n",
       "      <td>1358</td>\n",
       "      <td>1405</td>\n",
       "      <td>1374</td>\n",
       "      <td>1442</td>\n",
       "      <td>1431</td>\n",
       "      <td>1442</td>\n",
       "    </tr>\n",
       "    <tr>\n",
       "      <th>4</th>\n",
       "      <td>1403</td>\n",
       "      <td>1285</td>\n",
       "      <td>1433</td>\n",
       "      <td>1365</td>\n",
       "      <td>1442</td>\n",
       "      <td>1442</td>\n",
       "      <td>1421</td>\n",
       "    </tr>\n",
       "  </tbody>\n",
       "</table>\n",
       "</div>"
      ],
      "text/plain": [
       "     HC  SA 0.999  SA 0.99  SA 0.9  GA Uniform  GA One Point  GA Two Point\n",
       "0  1402      1269     1402    1371        1442          1442          1442\n",
       "1  1306      1290     1442    1413        1433          1433          1421\n",
       "2  1364      1363     1402    1402        1442          1442          1417\n",
       "3  1282      1358     1405    1374        1442          1431          1442\n",
       "4  1403      1285     1433    1365        1442          1442          1421"
      ]
     },
     "execution_count": 74,
     "metadata": {},
     "output_type": "execute_result"
    }
   ],
   "source": [
    "df=pd.DataFrame()\n",
    "df['HC'] = HC\n",
    "df['SA 0.999'] = SA\n",
    "df['SA 0.99'] = SA_varient\n",
    "df['SA 0.9'] = SA_varient2\n",
    "df['GA Uniform'] = GA_Uniform\n",
    "df['GA One Point'] = GA_OnePoint\n",
    "df['GA Two Point'] = GA_TwoPoint\n",
    "df"
   ]
  },
  {
   "cell_type": "markdown",
   "id": "6f1d3c32",
   "metadata": {},
   "source": [
    "### Mean of each algorithm (High to Low)"
   ]
  },
  {
   "cell_type": "code",
   "execution_count": 75,
   "id": "47b1549e",
   "metadata": {},
   "outputs": [
    {
     "data": {
      "text/html": [
       "<div>\n",
       "<style scoped>\n",
       "    .dataframe tbody tr th:only-of-type {\n",
       "        vertical-align: middle;\n",
       "    }\n",
       "\n",
       "    .dataframe tbody tr th {\n",
       "        vertical-align: top;\n",
       "    }\n",
       "\n",
       "    .dataframe thead th {\n",
       "        text-align: right;\n",
       "    }\n",
       "</style>\n",
       "<table border=\"1\" class=\"dataframe\">\n",
       "  <thead>\n",
       "    <tr style=\"text-align: right;\">\n",
       "      <th></th>\n",
       "      <th>Algos</th>\n",
       "      <th>Mean</th>\n",
       "    </tr>\n",
       "  </thead>\n",
       "  <tbody>\n",
       "    <tr>\n",
       "      <th>4</th>\n",
       "      <td>GA Uniform</td>\n",
       "      <td>1440.2</td>\n",
       "    </tr>\n",
       "    <tr>\n",
       "      <th>5</th>\n",
       "      <td>GA One Point</td>\n",
       "      <td>1438.0</td>\n",
       "    </tr>\n",
       "    <tr>\n",
       "      <th>6</th>\n",
       "      <td>GA Two Point</td>\n",
       "      <td>1428.6</td>\n",
       "    </tr>\n",
       "    <tr>\n",
       "      <th>2</th>\n",
       "      <td>SA 0.99</td>\n",
       "      <td>1416.8</td>\n",
       "    </tr>\n",
       "    <tr>\n",
       "      <th>3</th>\n",
       "      <td>SA 0.9</td>\n",
       "      <td>1385.0</td>\n",
       "    </tr>\n",
       "    <tr>\n",
       "      <th>0</th>\n",
       "      <td>HC</td>\n",
       "      <td>1351.4</td>\n",
       "    </tr>\n",
       "    <tr>\n",
       "      <th>1</th>\n",
       "      <td>SA 0.999</td>\n",
       "      <td>1313.0</td>\n",
       "    </tr>\n",
       "  </tbody>\n",
       "</table>\n",
       "</div>"
      ],
      "text/plain": [
       "          Algos    Mean\n",
       "4    GA Uniform  1440.2\n",
       "5  GA One Point  1438.0\n",
       "6  GA Two Point  1428.6\n",
       "2       SA 0.99  1416.8\n",
       "3        SA 0.9  1385.0\n",
       "0            HC  1351.4\n",
       "1      SA 0.999  1313.0"
      ]
     },
     "execution_count": 75,
     "metadata": {},
     "output_type": "execute_result"
    }
   ],
   "source": [
    "df_algo=pd.DataFrame({'Algos': df.columns,\n",
    "                      'Mean': list(df.mean())})\n",
    "df_sorted = df_algo.sort_values(by=['Mean'], ascending= False)\n",
    "df_sorted"
   ]
  },
  {
   "cell_type": "markdown",
   "id": "37b1b0ad",
   "metadata": {},
   "source": [
    "## Plotted Bar graph of means"
   ]
  },
  {
   "cell_type": "code",
   "execution_count": 76,
   "id": "5381f956",
   "metadata": {},
   "outputs": [
    {
     "data": {
      "image/png": "[encoded data removed]",
      "text/plain": [
       "<Figure size 1100x600 with 1 Axes>"
      ]
     },
     "metadata": {},
     "output_type": "display_data"
    }
   ],
   "source": [
    "fig, result = plt.subplots(1,1, figsize=(11,6))\n",
    "result.bar(df_sorted.Algos, df_sorted.Mean) # bar graph, x-algos, y-mean value\n",
    "result.set_ylim(1200,1450);\n",
    "result.set_ylabel('Total value of items');"
   ]
  },
  {
   "cell_type": "markdown",
   "id": "239f0543",
   "metadata": {},
   "source": [
    "# Conclusion"
   ]
  },
  {
   "cell_type": "markdown",
   "id": "b64f4636",
   "metadata": {},
   "source": [
    "<H8> The purpose was to <b>MAXIMIZE</b> the total values of the items that can be carried in three trucks of different weight limits.\n",
    "\n",
    "Various algorithms and their varients are implemented to get the best value of the objective function. By comprehending results of each algorithm, we came to the conclusion that :\n",
    "\n",
    "* Genetic algorithm gives the best result, then comes the Simulated Annealing followed by Hill climbing.\n",
    "    * We conclude that the **problem required more exploration than exploitation** as Uniform Crossover and One Point Crossover (which are more explorative) gave better results than Two Point Crossover (which is more exploitative as preserves most of the parents genes than other crossovers).\n",
    "\n",
    "* Simulated annealing varients gave results depending on the value of Alpha. \n",
    "    * High value of Alpha(0.999) gave the worst result. High value made the decay slow hence the algorithm started accepting worse cases with higher probability throughout the iterations, making it worse than Hill Climbing. This varient accepts almost every neighbor either bad or good, making it a random walk case.\n",
    "    * Alpha value 0.99 gave the best result compared to other SA varients as it provided better probability decay rate to accept disimprovements.\n",
    "    * Alpha value 0.9 was better than Hill climb as it rarely accepts disimprovements. Due to the fast decay of Temperature parameter, it works like a Hill climb after some iterations.\n",
    "    \n",
    "* Hill Climbing was the least affective algorithm after SA varient with alpha 0.999, as it provides no way to escape local optimas.\n",
    "</H8>"
   ]
  },
  {
   "cell_type": "markdown",
   "id": "d73fa1ba",
   "metadata": {},
   "source": [
    "****"
   ]
  },
  {
   "cell_type": "markdown",
   "id": "40358554",
   "metadata": {},
   "source": [
    "# Idea (Hopefully Novel)"
   ]
  },
  {
   "cell_type": "markdown",
   "id": "4c6eb356",
   "metadata": {},
   "source": [
    "### Plateau in a haystack\n",
    "* This problem occurs when there are many invalid solutions present in the search space and the valid solutions are cornered near zero.\n",
    "* To solve this problem, we can reshape the objective function by returning negative weights to the invalid solutions than giving them the death penalty.\n",
    "* As we have taken chunks in the initialisation of a random solution to get a valid solution each time, we have to shape our initialization function to create a haystack of invalid solution for this problem.\n",
    "\n",
    "Basically we have to make our function less smart to implement the idea.\n",
    "* Objective function- Negative weights for crossing weight limit and Negative penalty for invalid chunk.\n",
    "* Initialisation- Creating bitstring of length (items * total trucks)\n",
    "* Neighbor- No change as nbr will replace the present chunk with a valid chunk."
   ]
  },
  {
   "cell_type": "code",
   "execution_count": 77,
   "id": "72b8d500",
   "metadata": {},
   "outputs": [],
   "source": [
    "def obj_fun(x):\n",
    "    total_value = 0\n",
    "    container_weights = [0, 0, 0]\n",
    "    # truck weight limits\n",
    "    weight_limits = [72, 80, 109]\n",
    "    \n",
    "    for i, (wt, val) in enumerate(items):\n",
    "        chunk = x[i*3 : i*3+3]\n",
    "        \n",
    "        \n",
    "        if sum(chunk) > 1:\n",
    "            total_value-= 500 \n",
    "            # removing death penalty and giving high penalty to every invalid chunk.\n",
    "            # (higher invalid chunks, higher total negative value)\n",
    "        \n",
    "        elif sum(chunk) == 0:\n",
    "            continue # this item is not chosen\n",
    "        \n",
    "        else: # if a chunk is valid (Item in only one truck) (sum(chunk)==1)\n",
    "            idx = chunk.index(1)\n",
    "\n",
    "\n",
    "            # Place the item in the container\n",
    "            container_weights[idx] += wt\n",
    "            if container_weights[idx] > weight_limits[idx]:\n",
    "\n",
    "                # For creating a hill in Haystack for invalid solutions, \n",
    "                # giving negative weights as penalty to that invalid solution.\n",
    "                total_value+= weight_limits[idx]-container_weights[idx]\n",
    "\n",
    "            total_value += val\n",
    "    \n",
    "    return total_value\n"
   ]
  },
  {
   "cell_type": "code",
   "execution_count": 78,
   "id": "5a4f1fc4",
   "metadata": {},
   "outputs": [
    {
     "name": "stdout",
     "output_type": "stream",
     "text": [
      "110 101 111 111 001 010 001 011 000 100 000 001 011 011 101 111 010 101 011 010 001 011 111 010 000 101 001 011 101 101 \n",
      "Total value of a random solution: -8026\n"
     ]
    }
   ],
   "source": [
    "m = n*3 # len(items) * number of trucks -- to get truck index of each item.\n",
    "\n",
    "def init_less_smart(n):\n",
    "    lst=[]\n",
    "    for i in range(n):\n",
    "        lst.append(random.randrange(2)) # creating a random 90 size bitstring.\n",
    "    return lst\n",
    "\n",
    "print_sol(init_less_smart(m))\n",
    "print(f'Total value of a random solution: {obj_fun(init_less_smart(m))}')"
   ]
  },
  {
   "cell_type": "markdown",
   "id": "bf403e86",
   "metadata": {},
   "source": [
    "** We have successfully shaped our Objective function and init function."
   ]
  },
  {
   "cell_type": "markdown",
   "id": "2523b194",
   "metadata": {},
   "source": [
    "## Note: \n",
    "### We dont have to change the neighbor function as it will give a neighbor which will append a valid chunk in the solution making our solution go towards the plateau."
   ]
  },
  {
   "cell_type": "code",
   "execution_count": 79,
   "id": "4bfb4ccc",
   "metadata": {},
   "outputs": [
    {
     "name": "stdout",
     "output_type": "stream",
     "text": [
      "101 111 000 001 111 111 001 000 010 111 010 011 001 011 000 010 110 111 110 000 100 110 010 001 110 101 010 101 110 100 \n"
     ]
    }
   ],
   "source": [
    "def nbr_new_fun(x):\n",
    "    x = x.copy()\n",
    "    i= random.randrange(len(items)) # getting the index of a random chunk\n",
    "    \n",
    "    truck_no=[0,0,0]\n",
    "    if random.random()>0.3: # probability of putting the item in none of the trucks is 30%.\n",
    "        truck_no[random.randrange(3)]=1\n",
    "        \n",
    "    if (x[i*3:i*3+3] != truck_no): # checking if new chunk is similiar to previous.                   \n",
    "        x[i*3:i*3+3] = truck_no # append new chunk if not similiar.\n",
    "        return x\n",
    "    else:    \n",
    "        return nbr_new_fun(x) # recursion if random chunk is similiar to previous chunk.\n",
    "    \n",
    "print_sol(nbr_new_fun(init_less_smart(m)))"
   ]
  },
  {
   "cell_type": "markdown",
   "id": "db3a3b4f",
   "metadata": {},
   "source": [
    "### Hill Climbing\n"
   ]
  },
  {
   "cell_type": "code",
   "execution_count": 80,
   "id": "e929f127",
   "metadata": {},
   "outputs": [],
   "source": [
    "def HC_pih(f, init, nbr, its):\n",
    "    x=init(m)\n",
    "    fx=f(x)\n",
    "    history=[]\n",
    "    history_current=[]\n",
    "    \n",
    "    for i in range(its): # creating nbr and comapring its value, if better : moving to that solution.\n",
    "        xnew=nbr(x)\n",
    "        fxnew=f(xnew)\n",
    "        history_current.append(fxnew) # creating list of all the nbrs.\n",
    "        \n",
    "        if fxnew>fx:\n",
    "            x=xnew\n",
    "            fx=fxnew\n",
    "        history.append(fx) # creating list of the best solution of each iteration.\n",
    "    return x, fx, history, history_current"
   ]
  },
  {
   "cell_type": "code",
   "execution_count": 81,
   "id": "4f0650e1",
   "metadata": {},
   "outputs": [
    {
     "name": "stdout",
     "output_type": "stream",
     "text": [
      "The Best total Value of Items are: 1444\n",
      "Best solution is :\n",
      "001 001 001 010 010 001 010 010 010 100 010 100 000 010 100 010 100 100 010 100 100 100 100 001 001 001 001 001 001 001 \n"
     ]
    }
   ],
   "source": [
    "x, fx, history, history_nbr = HC_pih(obj_fun, init_less_smart, nbr_new_fun, 5000)\n",
    "print(f'The Best total Value of Items are: {fx}')\n",
    "print('Best solution is :')\n",
    "print_sol(x)"
   ]
  },
  {
   "cell_type": "markdown",
   "id": "2ac5cd03",
   "metadata": {},
   "source": [
    "## Plot for best value"
   ]
  },
  {
   "cell_type": "code",
   "execution_count": 82,
   "id": "05380347",
   "metadata": {},
   "outputs": [
    {
     "data": {
      "image/png": "[encoded data removed]",
      "text/plain": [
       "<Figure size 640x480 with 1 Axes>"
      ]
     },
     "metadata": {},
     "output_type": "display_data"
    }
   ],
   "source": [
    "plt.plot(history)\n",
    "plt.xlabel('Iterations')\n",
    "plt.ylabel('Total value of items (with negative weights)');"
   ]
  },
  {
   "cell_type": "markdown",
   "id": "89ded2a7",
   "metadata": {},
   "source": [
    "## Plot for neighbor value"
   ]
  },
  {
   "cell_type": "code",
   "execution_count": 83,
   "id": "a49f52b0",
   "metadata": {},
   "outputs": [
    {
     "data": {
      "image/png": "[encoded data removed]",
      "text/plain": [
       "<Figure size 640x480 with 1 Axes>"
      ]
     },
     "metadata": {},
     "output_type": "display_data"
    }
   ],
   "source": [
    "plt.plot(history_nbr)\n",
    "plt.xlabel('Iterations')\n",
    "plt.ylabel('Total value of items (with negative weights)');"
   ]
  },
  {
   "cell_type": "markdown",
   "id": "52a1de55",
   "metadata": {},
   "source": [
    "## Mean and comparison with other algorithms"
   ]
  },
  {
   "cell_type": "code",
   "execution_count": 84,
   "id": "0ae22bfa",
   "metadata": {},
   "outputs": [
    {
     "data": {
      "text/html": [
       "<div>\n",
       "<style scoped>\n",
       "    .dataframe tbody tr th:only-of-type {\n",
       "        vertical-align: middle;\n",
       "    }\n",
       "\n",
       "    .dataframe tbody tr th {\n",
       "        vertical-align: top;\n",
       "    }\n",
       "\n",
       "    .dataframe thead th {\n",
       "        text-align: right;\n",
       "    }\n",
       "</style>\n",
       "<table border=\"1\" class=\"dataframe\">\n",
       "  <thead>\n",
       "    <tr style=\"text-align: right;\">\n",
       "      <th></th>\n",
       "      <th>HC</th>\n",
       "      <th>SA 0.999</th>\n",
       "      <th>SA 0.99</th>\n",
       "      <th>SA 0.9</th>\n",
       "      <th>GA Uniform</th>\n",
       "      <th>GA One Point</th>\n",
       "      <th>GA Two Point</th>\n",
       "      <th>Plateau</th>\n",
       "    </tr>\n",
       "  </thead>\n",
       "  <tbody>\n",
       "    <tr>\n",
       "      <th>0</th>\n",
       "      <td>1402</td>\n",
       "      <td>1269</td>\n",
       "      <td>1402</td>\n",
       "      <td>1371</td>\n",
       "      <td>1442</td>\n",
       "      <td>1442</td>\n",
       "      <td>1442</td>\n",
       "      <td>1444</td>\n",
       "    </tr>\n",
       "    <tr>\n",
       "      <th>1</th>\n",
       "      <td>1306</td>\n",
       "      <td>1290</td>\n",
       "      <td>1442</td>\n",
       "      <td>1413</td>\n",
       "      <td>1433</td>\n",
       "      <td>1433</td>\n",
       "      <td>1421</td>\n",
       "      <td>1442</td>\n",
       "    </tr>\n",
       "    <tr>\n",
       "      <th>2</th>\n",
       "      <td>1364</td>\n",
       "      <td>1363</td>\n",
       "      <td>1402</td>\n",
       "      <td>1402</td>\n",
       "      <td>1442</td>\n",
       "      <td>1442</td>\n",
       "      <td>1417</td>\n",
       "      <td>1444</td>\n",
       "    </tr>\n",
       "    <tr>\n",
       "      <th>3</th>\n",
       "      <td>1282</td>\n",
       "      <td>1358</td>\n",
       "      <td>1405</td>\n",
       "      <td>1374</td>\n",
       "      <td>1442</td>\n",
       "      <td>1431</td>\n",
       "      <td>1442</td>\n",
       "      <td>1444</td>\n",
       "    </tr>\n",
       "    <tr>\n",
       "      <th>4</th>\n",
       "      <td>1403</td>\n",
       "      <td>1285</td>\n",
       "      <td>1433</td>\n",
       "      <td>1365</td>\n",
       "      <td>1442</td>\n",
       "      <td>1442</td>\n",
       "      <td>1421</td>\n",
       "      <td>1444</td>\n",
       "    </tr>\n",
       "  </tbody>\n",
       "</table>\n",
       "</div>"
      ],
      "text/plain": [
       "     HC  SA 0.999  SA 0.99  SA 0.9  GA Uniform  GA One Point  GA Two Point  \\\n",
       "0  1402      1269     1402    1371        1442          1442          1442   \n",
       "1  1306      1290     1442    1413        1433          1433          1421   \n",
       "2  1364      1363     1402    1402        1442          1442          1417   \n",
       "3  1282      1358     1405    1374        1442          1431          1442   \n",
       "4  1403      1285     1433    1365        1442          1442          1421   \n",
       "\n",
       "   Plateau  \n",
       "0     1444  \n",
       "1     1442  \n",
       "2     1444  \n",
       "3     1444  \n",
       "4     1444  "
      ]
     },
     "execution_count": 84,
     "metadata": {},
     "output_type": "execute_result"
    }
   ],
   "source": [
    "lst_x=[]\n",
    "for i in range(5):\n",
    "    x, fx, history, history_nbr = HC_pih(obj_fun, init_less_smart, nbr_new_fun, 1000)\n",
    "    lst_x.append(fx)\n",
    "    \n",
    "    if i==0:\n",
    "        best_value=x # Getting the best solution out of the 5 iterations.\n",
    "    if fx>obj_fun(best_value):\n",
    "        best_value=x\n",
    "\n",
    "df['Plateau']= lst_x # Tabular visualisation of 5 random seeds of each algo.\n",
    "df"
   ]
  },
  {
   "cell_type": "code",
   "execution_count": 85,
   "id": "1562a9a5",
   "metadata": {},
   "outputs": [
    {
     "data": {
      "text/html": [
       "<div>\n",
       "<style scoped>\n",
       "    .dataframe tbody tr th:only-of-type {\n",
       "        vertical-align: middle;\n",
       "    }\n",
       "\n",
       "    .dataframe tbody tr th {\n",
       "        vertical-align: top;\n",
       "    }\n",
       "\n",
       "    .dataframe thead th {\n",
       "        text-align: right;\n",
       "    }\n",
       "</style>\n",
       "<table border=\"1\" class=\"dataframe\">\n",
       "  <thead>\n",
       "    <tr style=\"text-align: right;\">\n",
       "      <th></th>\n",
       "      <th>Algos</th>\n",
       "      <th>Mean</th>\n",
       "    </tr>\n",
       "  </thead>\n",
       "  <tbody>\n",
       "    <tr>\n",
       "      <th>7</th>\n",
       "      <td>Plateau</td>\n",
       "      <td>1443.6</td>\n",
       "    </tr>\n",
       "    <tr>\n",
       "      <th>4</th>\n",
       "      <td>GA Uniform</td>\n",
       "      <td>1440.2</td>\n",
       "    </tr>\n",
       "    <tr>\n",
       "      <th>5</th>\n",
       "      <td>GA One Point</td>\n",
       "      <td>1438.0</td>\n",
       "    </tr>\n",
       "    <tr>\n",
       "      <th>6</th>\n",
       "      <td>GA Two Point</td>\n",
       "      <td>1428.6</td>\n",
       "    </tr>\n",
       "    <tr>\n",
       "      <th>2</th>\n",
       "      <td>SA 0.99</td>\n",
       "      <td>1416.8</td>\n",
       "    </tr>\n",
       "    <tr>\n",
       "      <th>3</th>\n",
       "      <td>SA 0.9</td>\n",
       "      <td>1385.0</td>\n",
       "    </tr>\n",
       "    <tr>\n",
       "      <th>0</th>\n",
       "      <td>HC</td>\n",
       "      <td>1351.4</td>\n",
       "    </tr>\n",
       "    <tr>\n",
       "      <th>1</th>\n",
       "      <td>SA 0.999</td>\n",
       "      <td>1313.0</td>\n",
       "    </tr>\n",
       "  </tbody>\n",
       "</table>\n",
       "</div>"
      ],
      "text/plain": [
       "          Algos    Mean\n",
       "7       Plateau  1443.6\n",
       "4    GA Uniform  1440.2\n",
       "5  GA One Point  1438.0\n",
       "6  GA Two Point  1428.6\n",
       "2       SA 0.99  1416.8\n",
       "3        SA 0.9  1385.0\n",
       "0            HC  1351.4\n",
       "1      SA 0.999  1313.0"
      ]
     },
     "execution_count": 85,
     "metadata": {},
     "output_type": "execute_result"
    }
   ],
   "source": [
    "df_algo=pd.DataFrame({'Algos': df.columns,\n",
    "                      'Mean': list(df.mean())})\n",
    "df_sorted = df_algo.sort_values(by=['Mean'], ascending= False)\n",
    "df_sorted # Sorted dataframe of algos and their mean value."
   ]
  },
  {
   "cell_type": "markdown",
   "id": "66911ddc",
   "metadata": {},
   "source": [
    "## Findings:\n"
   ]
  },
  {
   "cell_type": "markdown",
   "id": "0827cd9d",
   "metadata": {},
   "source": [
    "* <H3>Surprisingly, HC to avoid Plateau in Haystack comes out to be better algorithm than the previously best Genetic algorithm with uniform crossover.\n",
    "</H3> \n",
    "* <H3>As there is no death penalty, every overweight has a negative value making the algorithm not ignore the invalid solutions while still favouring the valid solutions. As invalid solutions are also considered which preserves the diversity, this makes the algorithm works better than the algorithms with death penalty.</H3>"
   ]
  },
  {
   "cell_type": "code",
   "execution_count": 86,
   "id": "da988735",
   "metadata": {},
   "outputs": [
    {
     "name": "stdout",
     "output_type": "stream",
     "text": [
      "Best solution found with value \"1444\" is\n",
      "\n",
      "001 001 010 100 001 001 010 001 100 010 001 001 000 010 100 100 001 100 010 100 100 001 100 001 010 001 001 010 010 001 \n"
     ]
    }
   ],
   "source": [
    "print(f'Best solution found with value \"{max(lst_x)}\" is\\n')\n",
    "print_sol(best_value)"
   ]
  },
  {
   "cell_type": "markdown",
   "id": "48d85ca8",
   "metadata": {},
   "source": [
    "## Mapping Items with their respective Truck for the best solution"
   ]
  },
  {
   "cell_type": "code",
   "execution_count": 87,
   "id": "f8a3a035",
   "metadata": {},
   "outputs": [
    {
     "data": {
      "text/plain": [
       "{'Item-1(7, 70)': 'Truck 2',\n",
       " 'Item-2(13, 25)': 'Truck 2',\n",
       " 'Item-3(20, 50)': 'Truck 1',\n",
       " 'Item-4(4, 38)': 'Truck 0',\n",
       " 'Item-5(10, 48)': 'Truck 2',\n",
       " 'Item-6(4, 72)': 'Truck 2',\n",
       " 'Item-7(1, 12)': 'Truck 1',\n",
       " 'Item-8(5, 30)': 'Truck 2',\n",
       " 'Item-9(19, 21)': 'Truck 0',\n",
       " 'Item-10(1, 99)': 'Truck 1',\n",
       " 'Item-11(8, 87)': 'Truck 2',\n",
       " 'Item-12(14, 31)': 'Truck 2',\n",
       " 'Item-13(19, 10)': 'None of the trucks',\n",
       " 'Item-14(10, 67)': 'Truck 1',\n",
       " 'Item-15(19, 12)': 'Truck 0',\n",
       " 'Item-16(11, 50)': 'Truck 0',\n",
       " 'Item-17(8, 13)': 'Truck 2',\n",
       " 'Item-18(3, 68)': 'Truck 0',\n",
       " 'Item-19(12, 50)': 'Truck 1',\n",
       " 'Item-20(13, 41)': 'Truck 0',\n",
       " 'Item-21(1, 67)': 'Truck 0',\n",
       " 'Item-22(8, 98)': 'Truck 2',\n",
       " 'Item-23(5, 28)': 'Truck 0',\n",
       " 'Item-24(3, 15)': 'Truck 2',\n",
       " 'Item-25(17, 78)': 'Truck 1',\n",
       " 'Item-26(13, 83)': 'Truck 2',\n",
       " 'Item-27(2, 25)': 'Truck 2',\n",
       " 'Item-28(14, 79)': 'Truck 1',\n",
       " 'Item-29(6, 48)': 'Truck 1',\n",
       " 'Item-30(20, 49)': 'Truck 2'}"
      ]
     },
     "execution_count": 87,
     "metadata": {},
     "output_type": "execute_result"
    }
   ],
   "source": [
    "truck={} # Using dictionary to map Items with Trucks\n",
    "\n",
    "for i, a in enumerate(items):\n",
    "    if 1 in best_value[i*3:i*3+3]:\n",
    "        truck['Item-'+ str(i+1) + str(a)]= 'Truck '+ str(best_value[i*3:i*3+3].index(1))\n",
    "    else:\n",
    "        truck['Item-'+ str(i+1) + str(a)]= 'None of the trucks'\n",
    "truck"
   ]
  },
  {
   "cell_type": "markdown",
   "id": "aafeecae",
   "metadata": {},
   "source": [
    "**Name: Vikrant Singh Jamwal**\n",
    "\n",
    "**Student ID: 23104534**"
   ]
  }
 ],
 "metadata": {
  "kernelspec": {
   "display_name": "Python 3 (ipykernel)",
   "language": "python",
   "name": "python3"
  },
  "language_info": {
   "codemirror_mode": {
    "name": "ipython",
    "version": 3
   },
   "file_extension": ".py",
   "mimetype": "text/x-python",
   "name": "python",
   "nbconvert_exporter": "python",
   "pygments_lexer": "ipython3",
   "version": "3.11.4"
  }
 },
 "nbformat": 4,
 "nbformat_minor": 5
}
