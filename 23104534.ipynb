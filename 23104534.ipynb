{
 "cells": [
  {
   "cell_type": "markdown",
   "metadata": {},
   "source": [
    "# Assignment 1: Dungeons & Dragons & Distances & NaNs"
   ]
  },
  {
   "cell_type": "markdown",
   "metadata": {},
   "source": [
    "**Weight**: This assignment is worth 20% of the module. \n",
    "\n",
    "**Grading**: Submit only a `.ipynb` file. Each part is worth 5%. Partial credit is possible for incomplete solutions. Marks may be subtracted for over-complex, unreadable, or inconsistently-formatted code. Comments should be used where needed. Your job is to write code to pass the doctests and in a few places to write a comment in a markdown cell. The doctests must not be removed or changed (it's ok to add doctests, if you wish). I have indicated how long my code is in some places. You don't have to write code the same length. It's just intended as a clue: if my code is 3 lines and yours is 30 lines, you might be doing it in a difficult way.\n",
    "\n",
    "**Due date**: as announced on Canvas.\n",
    "\n",
    "**Groups**: you may work in a group of 1 (ie solo) or a group of 2 of your choice. If in a group of 2, you must inform the lecturer of the group by email, cc-ing both members and including both members' names and ID numbers. You must send that email 2 weeks before the due date. And you must work together on all parts: you cannot divide the parts up between the group members. If in a group of 2, both students should make a submission and both should be identical.\n",
    "\n",
    "**Academic integrity**: you must submit only your own work. You may discuss the assignment with other students/groups, but may not show your work to others or allow others to see yours. You may use snippets of code sourced from the internet to solve specific sub-parts, but not entire solutions. You must include a citation and URL in such cases. You may not use code generators.\n",
    "\n",
    "**Interviews**: some students/groups will be interviewed to check on their understanding of their submission. An inability to explain your work may result in a grade penalty, a zero grade, or an academic integrity report."
   ]
  },
  {
   "cell_type": "markdown",
   "metadata": {},
   "source": [
    "**Student name(s)**: Vikrant Singh Jamwal\n",
    "\n",
    "**Student ID(s)**: 23104534"
   ]
  },
  {
   "cell_type": "markdown",
   "metadata": {},
   "source": [
    "### Part 1: Party of Adventurers\n",
    "\n",
    "You are in a tavern in Port Blacksand. There are lots of customers. You want to choose a party of 4 (not including yourself) to go on an adventure. Each possible adventurer has various properties, eg:\n",
    "\n",
    "```python\n",
    "customers = {\n",
    "    'Errik':  {'gender': 'male',   'stamina': 11, 'weapon': 'club',       'skill': 'fighting'},\n",
    "    'Hider':  {'gender': 'male',   'stamina': 7,  'weapon': 'rope',       'skill': 'sneaking'},\n",
    "    # etc\n",
    "}   \n",
    "```\n",
    "\n",
    "Your goal is to choose a party of adventurers with the following properties:\n",
    "\n",
    "* Exactly 4 members not including yourself \n",
    "* At least one male and at least one female\n",
    "* Mean stamina at least 10\n",
    "* At least two swords\n",
    "* At least one person with the 'healing' skill\n",
    "* Because you enjoy making up alliterative nicknames like \"Torvald the Truthful\", there must not be two adventurers whose names start with the same letter.\n",
    "\n",
    "Write each of these properties as a **predicate**, ie a function that returns True or False given a `dict` of adventurers. Collect them into a list, `predicates`."
   ]
  },
  {
   "cell_type": "code",
   "execution_count": 3,
   "metadata": {},
   "outputs": [],
   "source": [
    "import doctest, math, itertools, random\n",
    "import numpy as np"
   ]
  },
  {
   "cell_type": "code",
   "execution_count": 5,
   "metadata": {},
   "outputs": [],
   "source": [
    "test_party = {\n",
    "    'Errik':  {'gender': 'male',   'stamina': 11, 'weapon': 'sword',      'skill': 'fighting'},\n",
    "    'Hider':  {'gender': 'male',   'stamina': 7,  'weapon': 'rope',       'skill': 'sneaking'},\n",
    "    'Kro':    {'gender': 'male',   'stamina': 14, 'weapon': 'fists',      'skill': 'martial arts'},\n",
    "    'Cleo':   {'gender': 'female', 'stamina': 4,  'weapon': 'staff',      'skill': 'healing'},\n",
    "}"
   ]
  },
  {
   "cell_type": "code",
   "execution_count": 239,
   "metadata": {},
   "outputs": [],
   "source": [
    "def four_members(d): \n",
    "    return len(d) == 4\n",
    "\n",
    "# DEFINE THE OTHER PREDICATES HERE AND CREATE THE COMPLETE LIST BELOW\n",
    "\n",
    "def gender_balance(d):\n",
    "    male=sum(1 for name in d if d[name]['gender']=='male')    \n",
    "    return male>0 and male<4\n",
    "    # TRUE if 0<male<4, so all 4 cant be male or female.\n",
    "\n",
    "def mean_stamina(d):\n",
    "    total_stamina = sum(d[name]['stamina'] for name in d)\n",
    "    return total_stamina/len(d)>=10\n",
    "    #TRUE if average stamina of 4 is >=10 (float value, hence not be equivalent to >9)\n",
    "\n",
    "def two_swords(d):\n",
    "    swords=sum(1 for name in d if d[name]['weapon']=='sword')\n",
    "    return swords>1\n",
    "    #True if swords in the team > 1 (As it will be an integer, hence equivalent to >=2)\n",
    "    \n",
    "def healing(d):\n",
    "    healings = sum(1 for name in d if d[name]['skill']=='healing')\n",
    "    return healings>0\n",
    "    #True if healings in the team > 0 (As it will be an integer, hence equivalent to >=1)\n",
    "\n",
    "def alliteration(d):\n",
    "    initials= [name[:1] for name in d]\n",
    "    return len(initials)==len(set(initials))\n",
    "    #TRUE if all the initials are unique, as set length = list length\n",
    "\n",
    "predicates = [\n",
    "    four_members, gender_balance, mean_stamina, two_swords, healing, alliteration\n",
    "]"
   ]
  },
  {
   "cell_type": "code",
   "execution_count": 169,
   "metadata": {},
   "outputs": [],
   "source": [
    "def test_preds(party, preds):\n",
    "    \"\"\"\n",
    "    Prove that the proposed party passes all predicates.\n",
    "    \n",
    "    This function is complete: you don't have to write anything.\n",
    "    \n",
    ">>> test_preds(test_party, predicates)\n",
    "four_members True\n",
    "gender_balance True\n",
    "mean_stamina False\n",
    "two_swords False\n",
    "healing True\n",
    "alliteration True\n",
    "    \"\"\"\n",
    "    for pred in preds:\n",
    "        print(pred.__name__, pred(party))"
   ]
  },
  {
   "cell_type": "code",
   "execution_count": 171,
   "metadata": {},
   "outputs": [
    {
     "name": "stdout",
     "output_type": "stream",
     "text": [
      "Finding tests in NoName\n",
      "Trying:\n",
      "    test_preds(test_party, predicates)\n",
      "Expecting:\n",
      "    four_members True\n",
      "    gender_balance True\n",
      "    mean_stamina False\n",
      "    two_swords False\n",
      "    healing True\n",
      "    alliteration True\n",
      "ok\n"
     ]
    }
   ],
   "source": [
    "doctest.run_docstring_examples(test_preds, globals(), verbose=True)"
   ]
  },
  {
   "cell_type": "markdown",
   "metadata": {},
   "source": [
    "Below is the complete data on the customers. Write a function using your predicates to see if there are any possible subsets of customers who could form your party."
   ]
  },
  {
   "cell_type": "code",
   "execution_count": 222,
   "metadata": {},
   "outputs": [],
   "source": [
    "customers = {\n",
    "    'Errik':  {'gender': 'male',   'stamina': 11, 'weapon': 'club',       'skill': 'fighting'},\n",
    "    'Hider':  {'gender': 'male',   'stamina': 7,  'weapon': 'rope',       'skill': 'sneaking'},\n",
    "    'Kro':    {'gender': 'male',   'stamina': 14, 'weapon': 'fists',      'skill': 'martial arts'},\n",
    "    'Cleo':   {'gender': 'female', 'stamina': 4,  'weapon': 'staff',      'skill': 'healing'},\n",
    "    'Hirso':  {'gender': 'male',   'stamina': 9,  'weapon': 'keys',       'skill': 'lockpicking'},\n",
    "    'Marsha': {'gender': 'female', 'stamina': 8,  'weapon': 'bow',        'skill': 'healing'},\n",
    "    'Muriel': {'gender': 'female', 'stamina': 5,  'weapon': 'sword',      'skill': 'illusions'},\n",
    "    'Nina':   {'gender': 'female', 'stamina': 9,  'weapon': 'crossbow',   'skill': 'sniping'},    \n",
    "    'Hector': {'gender': 'male',   'stamina': 12, 'weapon': 'shield',     'skill': 'defense'},\n",
    "    'Tasha':  {'gender': 'female', 'stamina': 6,  'weapon': 'flute',      'skill': 'healing'},\n",
    "    'Vance':  {'gender': 'male',   'stamina': 15, 'weapon': 'hook',       'skill': 'swashbuckling'},\n",
    "    'Cassie': {'gender': 'female', 'stamina': 11, 'weapon': 'whip',       'skill': 'beast taming'},\n",
    "    'Loki':   {'gender': 'male',   'stamina': 4,  'weapon': 'dagger',     'skill': 'illusion'},\n",
    "    'Mulan':  {'gender': 'female', 'stamina': 12, 'weapon': 'javelin',    'skill': 'strategy'},\n",
    "    'Arya':   {'gender': 'female', 'stamina': 7,  'weapon': 'sword',      'skill': 'assassination'},\n",
    "    'Raj':    {'gender': 'male',   'stamina': 6,  'weapon': 'sling',      'skill': 'healing'}, \n",
    "    'Duncan': {'gender': 'male',   'stamina': 7,  'weapon': 'axe',        'skill': 'woodcutting'},\n",
    "    'Eve':    {'gender': 'female', 'stamina': 11, 'weapon': 'broomstick', 'skill': 'witchery'},\n",
    "    'Evern':  {'gender': 'female', 'stamina': 9,  'weapon': 'sword',      'skill': 'throwing'},\n",
    "    'Omar':   {'gender': 'male',   'stamina': 9,  'weapon': 'mace',       'skill': 'healing'},\n",
    "    'Hamish': {'gender': 'male',   'stamina': 5,  'weapon': 'boomerang',  'skill': 'retrieval'},\n",
    "    'Helena': {'gender': 'female', 'stamina': 6,  'weapon': 'sword',      'skill': 'climbing'},\n",
    "    'Tyrion': {'gender': 'male',   'stamina': 5,  'weapon': 'crossbow',   'skill': 'diplomacy'},\n",
    "}"
   ]
  },
  {
   "cell_type": "code",
   "execution_count": 305,
   "metadata": {},
   "outputs": [],
   "source": [
    "def choose_party(customers, size, predicates):\n",
    "    # Just print out each party as a tuple of names\n",
    "    ## YOUR CODE HERE - mine is 5 lines\n",
    "     \n",
    "    \n",
    "    # In one line\n",
    "    \n",
    "    '''---ROUGH WORK---\n",
    "    \n",
    "    print([party.keys() for party in map(dict, itertools.combinations(customers.items(),size)) \n",
    "           if all([predicate(party) for predicate in predicates])])\n",
    "    \n",
    "    '''\n",
    "    \n",
    "    # IN 4 LINES (clear code)\n",
    "    \n",
    "    parties= list(map(dict, itertools.combinations(customers.items(),size)))\n",
    "    \n",
    "    #parties will be a list of dictionaries of customers combinations.\n",
    "    #print(parties[:10])\n",
    "    \n",
    "    for party in parties:\n",
    "        if all([predicate(party) for predicate in predicates]):\n",
    "            print(tuple(party.keys()))\n",
    "            \n",
    "    # As predicates argument is dict type, so parties every party will be a dict as\n",
    "    # combinations of customer.items are mapped to dict type."
   ]
  },
  {
   "cell_type": "markdown",
   "metadata": {},
   "source": [
    "Now we can call `choose_party`:"
   ]
  },
  {
   "cell_type": "code",
   "execution_count": 308,
   "metadata": {},
   "outputs": [
    {
     "name": "stdout",
     "output_type": "stream",
     "text": [
      "('Vance', 'Arya', 'Evern', 'Omar')\n"
     ]
    }
   ],
   "source": [
    "choose_party(customers, 4, predicates)"
   ]
  },
  {
   "cell_type": "markdown",
   "metadata": {},
   "source": [
    "How many different possible parties did you find? Answer by writing the number below."
   ]
  },
  {
   "cell_type": "markdown",
   "metadata": {},
   "source": [
    "### YOUR ANSWER HERE: 1 - ('Vance', 'Arya', 'Evern', 'Omar')\n"
   ]
  },
  {
   "cell_type": "markdown",
   "metadata": {},
   "source": [
    "### Part 2: Treasure Chests\n",
    "\n",
    "While wandering in the fortress of the Goblin King, you've discovered a box of treasure!\n",
    "\n",
    "Your job is to tell the other adventurers **whether it contains** a `golden key`. \n",
    "\n",
    "The problem is - the box contains some items, like keys and coins and bracelets, but it also contains some other containers, like jewel-encrusted cases, leather pouches, or even other boxes. For each container you might have to search within it - recursively. An item is represented by a `str`, but a container is represented by a `list`.\n",
    " \n",
    "Write a recursive function to return True or False."
   ]
  },
  {
   "cell_type": "code",
   "execution_count": 313,
   "metadata": {},
   "outputs": [],
   "source": [
    "def search_for(container, item):\n",
    "    \"\"\"\n",
    "    >>> search_for(['coin', 'crown', 'key'], 'key')\n",
    "    True\n",
    "    >>> search_for(['coin', 'crown', 'key'], 'dagger')\n",
    "    False\n",
    "    >>> box = ['coin', 'coin', 'silver coin', 'silver key', 'needle', 'golden crown', \n",
    "    ...        ['coin', 'coin', 'coin'], 'diamond', 'small diamond',\n",
    "    ...        ['coin'], \n",
    "    ...        ['potion of healing', 'scroll'],\n",
    "    ...        ['golden key']]\n",
    "    >>> search_for(box, 'coin')    \n",
    "    True\n",
    "    >>> search_for(box, 'silver crown')    \n",
    "    False\n",
    "    >>> search_for(box, 'small diamond')    \n",
    "    True\n",
    "    >>> search_for(box, 'potion of healing')\n",
    "    True\n",
    "    >>> search_for(box, 'golden key')\n",
    "    True\n",
    "    \"\"\"\n",
    "    ## YOUR CODE HERE - mine is 8 lines\n",
    "    \n",
    "    x= item in container\n",
    "    y= False\n",
    "    \n",
    "    for objects in container:\n",
    "        if type(objects)==list:\n",
    "            y= search_for(objects,item)\n",
    "            if y==True:\n",
    "                break\n",
    "                \n",
    "    return x or y"
   ]
  },
  {
   "cell_type": "code",
   "execution_count": 315,
   "metadata": {},
   "outputs": [
    {
     "name": "stdout",
     "output_type": "stream",
     "text": [
      "Finding tests in NoName\n",
      "Trying:\n",
      "    search_for(['coin', 'crown', 'key'], 'key')\n",
      "Expecting:\n",
      "    True\n",
      "ok\n",
      "Trying:\n",
      "    search_for(['coin', 'crown', 'key'], 'dagger')\n",
      "Expecting:\n",
      "    False\n",
      "ok\n",
      "Trying:\n",
      "    box = ['coin', 'coin', 'silver coin', 'silver key', 'needle', 'golden crown', \n",
      "           ['coin', 'coin', 'coin'], 'diamond', 'small diamond',\n",
      "           ['coin'], \n",
      "           ['potion of healing', 'scroll'],\n",
      "           ['golden key']]\n",
      "Expecting nothing\n",
      "ok\n",
      "Trying:\n",
      "    search_for(box, 'coin')    \n",
      "Expecting:\n",
      "    True\n",
      "ok\n",
      "Trying:\n",
      "    search_for(box, 'silver crown')    \n",
      "Expecting:\n",
      "    False\n",
      "ok\n",
      "Trying:\n",
      "    search_for(box, 'small diamond')    \n",
      "Expecting:\n",
      "    True\n",
      "ok\n",
      "Trying:\n",
      "    search_for(box, 'potion of healing')\n",
      "Expecting:\n",
      "    True\n",
      "ok\n",
      "Trying:\n",
      "    search_for(box, 'golden key')\n",
      "Expecting:\n",
      "    True\n",
      "ok\n"
     ]
    }
   ],
   "source": [
    "doctest.run_docstring_examples(search_for, globals(), verbose=True)"
   ]
  },
  {
   "cell_type": "markdown",
   "metadata": {
    "tags": []
   },
   "source": [
    "### Part 3: The NaNs of Truth\n",
    "\n",
    "One of the items you discovered in the box of treasure was a scroll. When you read it, you see that written on it are 4 strange symbols:"
   ]
  },
  {
   "cell_type": "code",
   "execution_count": 318,
   "metadata": {},
   "outputs": [],
   "source": [
    "scroll = [-math.inf, math.pi, math.inf, math.nan]"
   ]
  },
  {
   "cell_type": "markdown",
   "metadata": {},
   "source": [
    "As you watch, these symbols almost seem to `float` into the air:"
   ]
  },
  {
   "cell_type": "code",
   "execution_count": 321,
   "metadata": {},
   "outputs": [
    {
     "name": "stdout",
     "output_type": "stream",
     "text": [
      "<class 'float'>\n",
      "<class 'float'>\n",
      "<class 'float'>\n",
      "<class 'float'>\n"
     ]
    }
   ],
   "source": [
    "for x in scroll:\n",
    "    print(type(x))"
   ]
  },
  {
   "cell_type": "markdown",
   "metadata": {},
   "source": [
    "These symbols have unexpected properties which we will investigate by making **two** tables. In each table, every symbol has to be compared to every other:\n",
    "\n",
    "* A **less than** table\n",
    "* An **equal to** table. \n",
    "\n",
    "In a table like this, each element is either `True` or `False`, represented as `1` or `0`.\n",
    "\n",
    "For example, a **less than** table for the `int`s `[1, 2, 3]` would be like this:\n",
    "\n",
    "```python\n",
    "0 1 1\n",
    "0 0 1\n",
    "0 0 0\n",
    "```\n",
    "\n",
    "Your job is to make a **less than** table and an **equal to** table for the symbols of the `scroll`.\n",
    "\n",
    "According to the famous wizards Hunt and Thomas' **rule of DRY**, we should avoid repeating code. So, our two tables should each be created by calling two common underlying functions, one to make a table and one to print a table."
   ]
  },
  {
   "cell_type": "code",
   "execution_count": 324,
   "metadata": {},
   "outputs": [],
   "source": [
    "def print_table(table):\n",
    "    \"\"\"\n",
    "    The input table should be a list of list of bool.\n",
    "    \n",
    "    This function should print the table in a nice square\n",
    "    binary format.\n",
    "\n",
    ">>> print_table([[True, True], [False, False]])\n",
    "1 1\n",
    "0 0\n",
    ">>> print_table([[True, True, True], [False, False, False]])\n",
    "1 1 1\n",
    "0 0 0\n",
    "    \"\"\"\n",
    "    ## YOUR CODE HERE - mine is 2 lines\n",
    "    \n",
    "    for bool_list in table:\n",
    "        print(\" \".join(map(str,bool_list)).replace(\"True\",\"1\").replace(\"False\",\"0\") )"
   ]
  },
  {
   "cell_type": "code",
   "execution_count": 326,
   "metadata": {},
   "outputs": [
    {
     "name": "stdout",
     "output_type": "stream",
     "text": [
      "Finding tests in NoName\n",
      "Trying:\n",
      "    print_table([[True, True], [False, False]])\n",
      "Expecting:\n",
      "    1 1\n",
      "    0 0\n",
      "ok\n",
      "Trying:\n",
      "    print_table([[True, True, True], [False, False, False]])\n",
      "Expecting:\n",
      "    1 1 1\n",
      "    0 0 0\n",
      "ok\n"
     ]
    }
   ],
   "source": [
    "doctest.run_docstring_examples(print_table, globals(), verbose=True)"
   ]
  },
  {
   "cell_type": "code",
   "execution_count": 327,
   "metadata": {},
   "outputs": [],
   "source": [
    "def make_table(L, fn):\n",
    "    \"\"\"\n",
    "    This function should return a list of list of bool.\n",
    ">>> make_table([1, 2, 3], (lambda x, y: x < y))\n",
    "[[False, True, True], [False, False, True], [False, False, False]]\n",
    "    \"\"\"\n",
    "    ## YOUR CODE HERE - mine is 1 line\n",
    "    \n",
    "    ''' -----Rough Space-----\n",
    "    outer_lst=[]\n",
    "    for i1 in L:\n",
    "        inner_lst=[]\n",
    "        for i2 in L:\n",
    "            if fn(i1,i2):\n",
    "                inner_lst.append(True)\n",
    "            else:\n",
    "                inner_lst.append(False)\n",
    "        outer_lst.append(inner_lst)      \n",
    "    return outer_lst\n",
    "    '''\n",
    "   \n",
    "    return [[fn(i1,i2) for i2 in L] for i1 in L ]"
   ]
  },
  {
   "cell_type": "code",
   "execution_count": 330,
   "metadata": {},
   "outputs": [
    {
     "name": "stdout",
     "output_type": "stream",
     "text": [
      "Finding tests in NoName\n",
      "Trying:\n",
      "    make_table([1, 2, 3], (lambda x, y: x < y))\n",
      "Expecting:\n",
      "    [[False, True, True], [False, False, True], [False, False, False]]\n",
      "ok\n"
     ]
    }
   ],
   "source": [
    "doctest.run_docstring_examples(make_table, globals(), verbose=True)"
   ]
  },
  {
   "cell_type": "code",
   "execution_count": 332,
   "metadata": {},
   "outputs": [],
   "source": [
    "def make_lt_table(L):\n",
    "    \"\"\"\n",
    ">>> make_lt_table([1, 2, 3])\n",
    "0 1 1\n",
    "0 0 1\n",
    "0 0 0\n",
    ">>> scroll = [-math.inf, math.pi, math.inf, math.nan]\n",
    ">>> make_lt_table(scroll)\n",
    "0 1 1 0\n",
    "0 0 1 0\n",
    "0 0 0 0\n",
    "0 0 0 0\n",
    "    \"\"\"\n",
    "    ## YOUR CODE HERE - MUST CALL print_table and make_table\n",
    "    ## mine is 1 line\n",
    "    \n",
    "    return print_table(make_table(L, (lambda x,y: x<y)))"
   ]
  },
  {
   "cell_type": "code",
   "execution_count": 334,
   "metadata": {},
   "outputs": [
    {
     "name": "stdout",
     "output_type": "stream",
     "text": [
      "Finding tests in NoName\n",
      "Trying:\n",
      "    make_lt_table([1, 2, 3])\n",
      "Expecting:\n",
      "    0 1 1\n",
      "    0 0 1\n",
      "    0 0 0\n",
      "ok\n",
      "Trying:\n",
      "    scroll = [-math.inf, math.pi, math.inf, math.nan]\n",
      "Expecting nothing\n",
      "ok\n",
      "Trying:\n",
      "    make_lt_table(scroll)\n",
      "Expecting:\n",
      "    0 1 1 0\n",
      "    0 0 1 0\n",
      "    0 0 0 0\n",
      "    0 0 0 0\n",
      "ok\n"
     ]
    }
   ],
   "source": [
    "doctest.run_docstring_examples(make_lt_table, globals(), verbose=True)"
   ]
  },
  {
   "cell_type": "code",
   "execution_count": 336,
   "metadata": {},
   "outputs": [],
   "source": [
    "def make_eq_table(L):\n",
    "    \"\"\"\n",
    ">>> make_eq_table([1, 2, 3])\n",
    "1 0 0\n",
    "0 1 0\n",
    "0 0 1\n",
    ">>> scroll = [-math.inf, math.pi, math.inf, math.nan]\n",
    ">>> make_eq_table(scroll)\n",
    "1 0 0 0\n",
    "0 1 0 0\n",
    "0 0 1 0\n",
    "0 0 0 0\n",
    "    \"\"\"\n",
    "    ## YOUR CODE HERE - must call print_table and make_table\n",
    "    ## mine is 1 line\n",
    "    \n",
    "    return print_table(make_table(L, (lambda x,y: x==y)))"
   ]
  },
  {
   "cell_type": "code",
   "execution_count": 338,
   "metadata": {},
   "outputs": [
    {
     "name": "stdout",
     "output_type": "stream",
     "text": [
      "Finding tests in NoName\n",
      "Trying:\n",
      "    make_eq_table([1, 2, 3])\n",
      "Expecting:\n",
      "    1 0 0\n",
      "    0 1 0\n",
      "    0 0 1\n",
      "ok\n",
      "Trying:\n",
      "    scroll = [-math.inf, math.pi, math.inf, math.nan]\n",
      "Expecting nothing\n",
      "ok\n",
      "Trying:\n",
      "    make_eq_table(scroll)\n",
      "Expecting:\n",
      "    1 0 0 0\n",
      "    0 1 0 0\n",
      "    0 0 1 0\n",
      "    0 0 0 0\n",
      "ok\n"
     ]
    }
   ],
   "source": [
    "doctest.run_docstring_examples(make_eq_table, globals(), verbose=True)"
   ]
  },
  {
   "cell_type": "markdown",
   "metadata": {
    "slideshow": {
     "slide_type": "slide"
    }
   },
   "source": [
    "The oldest member of your adventuring party then tells a long, rambling story while everyone yawns.  \"In a city I don't want to mention the name of, on a street called Diagon Alley, there is a certain interesting property. Usually, in a square table like this, we see there is a special value on the diagonal. For example in an **equal to** table, usually every element is equal to itself, so we usually have `1` on the diagonal.\" \n",
    "\n",
    "But is this true for the strange symbols of the scroll? Answer by writing below the name of the strange symbol which is not equal to itself."
   ]
  },
  {
   "cell_type": "markdown",
   "metadata": {},
   "source": [
    "### YOUR ANSWER HERE: NAN symbol"
   ]
  },
  {
   "cell_type": "markdown",
   "metadata": {},
   "source": [
    "### Part 4: the Nearest Defender\n",
    "\n",
    "There is one final challenge. The evil warlock has lifted your party into a higher dimension and is going to attack. \n",
    "\n",
    "When he attacks, you need to find out which of you is closest to him, in order to defend. But how can you calculate that in a higher dimension (specifically, in $n$ dimensions)? Use the **Euclidean distance** spell:\n",
    "\n",
    "$$\\mathrm{distance}(x, y) = \\sqrt{\\sum_{i=1}^n (x_i - y_i)^2}$$\n",
    "\n",
    "But make sure you use **vectorisation** in your spell, because otherwise your spell will be too slow when $n$ is large!"
   ]
  },
  {
   "cell_type": "code",
   "execution_count": 343,
   "metadata": {},
   "outputs": [],
   "source": [
    "def distance(x, y):\n",
    "    ## YOUR CODE HERE - must use vectorisation\n",
    "    ## mine is 1 line\n",
    "    \n",
    "    return math.sqrt(sum(np.square(np.array(x)-np.array(y))))"
   ]
  },
  {
   "cell_type": "markdown",
   "metadata": {},
   "source": [
    "Then, write a spell to calculate which member of your party is the closest to the attacker's location."
   ]
  },
  {
   "cell_type": "code",
   "execution_count": 370,
   "metadata": {},
   "outputs": [],
   "source": [
    "def choose_defender(defender_names, defender_locs, attacker_loc):\n",
    "    \"\"\"\n",
    "    >>> names = ['a', 'b', 'c', 'd']\n",
    "    >>> locs = [[-10, -10], [-5, 0], [5, 5], [2, 5]]\n",
    "    >>> choose_defender(names, locs, [1, 4])\n",
    "    'd'\n",
    "    >>> choose_defender(names, locs, [-1, -14])\n",
    "    'a'\n",
    "    >>> locs = [[1, 1, 1, 1], [3, 1, 1, 1], [0, 0, 0, 0], [5, 5, 5, 5]]\n",
    "    >>> choose_defender(names, locs, [4, 0, 0, 0])\n",
    "    'b'\n",
    "    \"\"\"\n",
    "    ## YOUR CODE HERE - mine is 5 lines\n",
    "    \n",
    "    distance_dict = {distance(defender_loc, attacker_loc):idx \n",
    "                     for idx, defender_loc in enumerate(defender_locs)}\n",
    "    return defender_names[distance_dict[min(distance_dict)]]\n",
    "\n",
    "    # distance_dict is the dict of all the distances as the key and the index of location as values.\n",
    "    # returns the name from the index of the location.\n"
   ]
  },
  {
   "cell_type": "code",
   "execution_count": 372,
   "metadata": {},
   "outputs": [
    {
     "name": "stdout",
     "output_type": "stream",
     "text": [
      "Finding tests in NoName\n",
      "Trying:\n",
      "    names = ['a', 'b', 'c', 'd']\n",
      "Expecting nothing\n",
      "ok\n",
      "Trying:\n",
      "    locs = [[-10, -10], [-5, 0], [5, 5], [2, 5]]\n",
      "Expecting nothing\n",
      "ok\n",
      "Trying:\n",
      "    choose_defender(names, locs, [1, 4])\n",
      "Expecting:\n",
      "    'd'\n",
      "ok\n",
      "Trying:\n",
      "    choose_defender(names, locs, [-1, -14])\n",
      "Expecting:\n",
      "    'a'\n",
      "ok\n",
      "Trying:\n",
      "    locs = [[1, 1, 1, 1], [3, 1, 1, 1], [0, 0, 0, 0], [5, 5, 5, 5]]\n",
      "Expecting nothing\n",
      "ok\n",
      "Trying:\n",
      "    choose_defender(names, locs, [4, 0, 0, 0])\n",
      "Expecting:\n",
      "    'b'\n",
      "ok\n"
     ]
    }
   ],
   "source": [
    "doctest.run_docstring_examples(choose_defender, globals(), verbose=True)"
   ]
  }
 ],
 "metadata": {
  "kernelspec": {
   "display_name": "Python 3 (ipykernel)",
   "language": "python",
   "name": "python3"
  },
  "language_info": {
   "codemirror_mode": {
    "name": "ipython",
    "version": 3
   },
   "file_extension": ".py",
   "mimetype": "text/x-python",
   "name": "python",
   "nbconvert_exporter": "python",
   "pygments_lexer": "ipython3",
   "version": "3.11.4"
  }
 },
 "nbformat": 4,
 "nbformat_minor": 4
}
